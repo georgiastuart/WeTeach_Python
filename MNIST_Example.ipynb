{
  "nbformat": 4,
  "nbformat_minor": 0,
  "metadata": {
    "colab": {
      "name": "MNIST Example",
      "provenance": [],
      "authorship_tag": "ABX9TyMvyoPyWtCafF2rFkCKfRoE",
      "include_colab_link": true
    },
    "kernelspec": {
      "name": "python3",
      "display_name": "Python 3"
    },
    "language_info": {
      "name": "python"
    }
  },
  "cells": [
    {
      "cell_type": "markdown",
      "metadata": {
        "id": "view-in-github",
        "colab_type": "text"
      },
      "source": [
        "<a href=\"https://colab.research.google.com/github/georgiastuart/WeTeach_Python/blob/main/MNIST_Example.ipynb\" target=\"_parent\"><img src=\"https://colab.research.google.com/assets/colab-badge.svg\" alt=\"Open In Colab\"/></a>"
      ]
    },
    {
      "cell_type": "code",
      "metadata": {
        "id": "2R-QHan2A1cb"
      },
      "source": [
        "import tensorflow as tf\n",
        "from tensorflow import keras\n",
        "from tensorflow.keras.layers import Dense\n",
        "import numpy as np\n",
        "import matplotlib.pyplot as plt"
      ],
      "execution_count": 58,
      "outputs": []
    },
    {
      "cell_type": "code",
      "metadata": {
        "id": "dJi-yg36A6u3"
      },
      "source": [
        "(train_data, train_labels), (test_data, test_labels) = keras.datasets.mnist.load_data()"
      ],
      "execution_count": 34,
      "outputs": []
    },
    {
      "cell_type": "code",
      "metadata": {
        "colab": {
          "base_uri": "https://localhost:8080/"
        },
        "id": "5-O5WP7LBb5h",
        "outputId": "c546c746-fd48-4dc5-f1c7-054c5eaaec7c"
      },
      "source": [
        "print(train_data.shape)\n",
        "print(test_data.shape)\n",
        "print(train_labels.shape)"
      ],
      "execution_count": 35,
      "outputs": [
        {
          "output_type": "stream",
          "text": [
            "(60000, 28, 28)\n",
            "(10000, 28, 28)\n",
            "(60000,)\n"
          ],
          "name": "stdout"
        }
      ]
    },
    {
      "cell_type": "code",
      "metadata": {
        "colab": {
          "base_uri": "https://localhost:8080/"
        },
        "id": "2He15NyZBp1J",
        "outputId": "1d45bfa7-e8ac-40b5-fdba-dc8a0fe1d58e"
      },
      "source": [
        "normalized_train_data = train_data.astype('float32') / 255\n",
        "normalized_test_data = test_data.astype('float32') / 255\n",
        "np.max(normalized_train_data)"
      ],
      "execution_count": 36,
      "outputs": [
        {
          "output_type": "execute_result",
          "data": {
            "text/plain": [
              "1.0"
            ]
          },
          "metadata": {
            "tags": []
          },
          "execution_count": 36
        }
      ]
    },
    {
      "cell_type": "code",
      "metadata": {
        "colab": {
          "base_uri": "https://localhost:8080/"
        },
        "id": "y8UQ-nLuCzh1",
        "outputId": "bcdeb057-d6fc-41cf-a563-00b7b40a4568"
      },
      "source": [
        "one_hot_train_labels = tf.one_hot(train_labels, 10)\n",
        "one_hot_train_labels"
      ],
      "execution_count": 37,
      "outputs": [
        {
          "output_type": "execute_result",
          "data": {
            "text/plain": [
              "<tf.Tensor: shape=(60000, 10), dtype=float32, numpy=\n",
              "array([[0., 0., 0., ..., 0., 0., 0.],\n",
              "       [1., 0., 0., ..., 0., 0., 0.],\n",
              "       [0., 0., 0., ..., 0., 0., 0.],\n",
              "       ...,\n",
              "       [0., 0., 0., ..., 0., 0., 0.],\n",
              "       [0., 0., 0., ..., 0., 0., 0.],\n",
              "       [0., 0., 0., ..., 0., 1., 0.]], dtype=float32)>"
            ]
          },
          "metadata": {
            "tags": []
          },
          "execution_count": 37
        }
      ]
    },
    {
      "cell_type": "code",
      "metadata": {
        "id": "-6o-7rQnB1Mq"
      },
      "source": [
        "def build_ff_model():\n",
        "  model = keras.Sequential([\n",
        "                            Dense(16, activation=tf.nn.relu, input_shape=(28 * 28,)),\n",
        "                            Dense(16),\n",
        "                            Dense(10)\n",
        "  ])\n",
        "\n",
        "  model.compile(optimizer=keras.optimizers.Adam(), loss='mse', metrics=['mae', 'mse'])\n",
        "  return model"
      ],
      "execution_count": 38,
      "outputs": []
    },
    {
      "cell_type": "code",
      "metadata": {
        "colab": {
          "base_uri": "https://localhost:8080/"
        },
        "id": "AM9cnk4CDiyv",
        "outputId": "40ce7030-ffd9-4d29-f42d-3eceac9ce9ed"
      },
      "source": [
        "reshaped_training_data = normalized_train_data.reshape((normalized_train_data.shape[0], 28 * 28))\n",
        "print(reshaped_training_data.shape)"
      ],
      "execution_count": 39,
      "outputs": [
        {
          "output_type": "stream",
          "text": [
            "(60000, 784)\n"
          ],
          "name": "stdout"
        }
      ]
    },
    {
      "cell_type": "code",
      "metadata": {
        "id": "EAV7SxdQCA-t"
      },
      "source": [
        "model = build_ff_model()\n",
        "history = model.fit(reshaped_training_data, one_hot_train_labels, epochs=100, validation_split=0.1, verbose=0)"
      ],
      "execution_count": 40,
      "outputs": []
    },
    {
      "cell_type": "code",
      "metadata": {
        "id": "7gjdPiKzCGHY"
      },
      "source": [
        "reshaped_test_data = normalized_test_data.reshape((normalized_test_data.shape[0], 28 * 28))\n",
        "one_hot_test_labels = tf.one_hot(test_labels, 10)"
      ],
      "execution_count": 41,
      "outputs": []
    },
    {
      "cell_type": "code",
      "metadata": {
        "id": "cF0YEPNVFlia"
      },
      "source": [
        "predicted_data = model.predict(reshaped_test_data)"
      ],
      "execution_count": 43,
      "outputs": []
    },
    {
      "cell_type": "code",
      "metadata": {
        "colab": {
          "base_uri": "https://localhost:8080/"
        },
        "id": "OMuJdjQ-F5mq",
        "outputId": "161e5e99-9a21-4130-f051-e46d6697ae13"
      },
      "source": [
        "predicted_data.shape"
      ],
      "execution_count": 45,
      "outputs": [
        {
          "output_type": "execute_result",
          "data": {
            "text/plain": [
              "(10000, 10)"
            ]
          },
          "metadata": {
            "tags": []
          },
          "execution_count": 45
        }
      ]
    },
    {
      "cell_type": "code",
      "metadata": {
        "id": "W7ZWI7UqFuVw"
      },
      "source": [
        "predicted_labels = np.argmax(predicted_data, axis=1)\n"
      ],
      "execution_count": 52,
      "outputs": []
    },
    {
      "cell_type": "code",
      "metadata": {
        "colab": {
          "base_uri": "https://localhost:8080/"
        },
        "id": "rAoQqyZ6GBmG",
        "outputId": "ca7199c3-73d8-487a-a044-cf00fc37062e"
      },
      "source": [
        "print(predicted_indices)\n",
        "print(test_labels)"
      ],
      "execution_count": 51,
      "outputs": [
        {
          "output_type": "stream",
          "text": [
            "[7 2 1 ... 4 5 6]\n",
            "[7 2 1 ... 4 5 6]\n"
          ],
          "name": "stdout"
        }
      ]
    },
    {
      "cell_type": "code",
      "metadata": {
        "colab": {
          "base_uri": "https://localhost:8080/"
        },
        "id": "LX5WfB_2GPF0",
        "outputId": "7fa2d56a-ab27-4b12-bc11-f413475e4bd3"
      },
      "source": [
        "print(np.sum(predicted_indices == test_labels) / len(predicted_indices))"
      ],
      "execution_count": 56,
      "outputs": [
        {
          "output_type": "stream",
          "text": [
            "0.9299\n"
          ],
          "name": "stdout"
        }
      ]
    },
    {
      "cell_type": "code",
      "metadata": {
        "colab": {
          "base_uri": "https://localhost:8080/",
          "height": 269
        },
        "id": "ygD4HjOxGV8x",
        "outputId": "13306738-297d-4b48-da58-ad56fa254380"
      },
      "source": [
        "plt.pcolormesh(test_data[0], cmap='gray')\n",
        "plt.gca().invert_yaxis()"
      ],
      "execution_count": 62,
      "outputs": [
        {
          "output_type": "display_data",
          "data": {
            "image/png": "[encoded data removed]",
            "text/plain": [
              "<Figure size 432x288 with 1 Axes>"
            ]
          },
          "metadata": {
            "tags": [],
            "needs_background": "light"
          }
        }
      ]
    },
    {
      "cell_type": "code",
      "metadata": {
        "colab": {
          "base_uri": "https://localhost:8080/"
        },
        "id": "rUayCWprGhMc",
        "outputId": "bdb7fa82-2917-4655-b93c-9f311f715731"
      },
      "source": [
        "result_0 = model.predict(test_data[0].flatten().reshape(1, 28 * 28))\n",
        "np.argmax(result_0)"
      ],
      "execution_count": 67,
      "outputs": [
        {
          "output_type": "execute_result",
          "data": {
            "text/plain": [
              "7"
            ]
          },
          "metadata": {
            "tags": []
          },
          "execution_count": 67
        }
      ]
    },
    {
      "cell_type": "code",
      "metadata": {
        "id": "KV_WktoXG0L8"
      },
      "source": [
        ""
      ],
      "execution_count": null,
      "outputs": []
    }
  ]
}