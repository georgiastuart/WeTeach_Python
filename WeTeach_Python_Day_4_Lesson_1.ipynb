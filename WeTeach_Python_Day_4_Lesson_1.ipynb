{
  "nbformat": 4,
  "nbformat_minor": 0,
  "metadata": {
    "colab": {
      "name": "WeTeach_Python Day 4 Lesson 1",
      "provenance": [],
      "authorship_tag": "ABX9TyNAQO/KGhd9LH4yXw9XXGy8",
      "include_colab_link": true
    },
    "kernelspec": {
      "name": "python3",
      "display_name": "Python 3"
    },
    "language_info": {
      "name": "python"
    }
  },
  "cells": [
    {
      "cell_type": "markdown",
      "metadata": {
        "id": "view-in-github",
        "colab_type": "text"
      },
      "source": [
        "<a href=\"https://colab.research.google.com/github/georgiastuart/WeTeach_Python/blob/main/WeTeach_Python_Day_4_Lesson_1.ipynb\" target=\"_parent\"><img src=\"https://colab.research.google.com/assets/colab-badge.svg\" alt=\"Open In Colab\"/></a>"
      ]
    },
    {
      "cell_type": "markdown",
      "metadata": {
        "id": "aWiKxsW_QwbJ"
      },
      "source": [
        "# WeTeach Python Day 4 Lesson 1: Introduction to Regression Neural Networks\n",
        "\n",
        "This lesson is inspired by [this notebook](https://www.kaggle.com/arunkumarramanan/tensorflow-tutorial-and-housing-price-prediction) on Kaggle. \n",
        "\n",
        "We will use the [Tensorflow](https://www.tensorflow.org/api_docs/python/tf) Python library in order to build a neural network to predict housing prices (in 1970s Boston). \n",
        "\n",
        "## What is a Neural Network?\n",
        "\n",
        "A *neural network* is a mathematical structure composed of layers of neurons inspired by how our brains work. \n",
        "\n",
        "[This 3Blue1Brown video](https://www.youtube.com/watch?v=aircAruvnKk) is a great introduction to the structure of neural networks."
      ]
    },
    {
      "cell_type": "code",
      "metadata": {
        "id": "BK-AagUcQdoN"
      },
      "source": [
        "import tensorflow as tf\n",
        "from tensorflow import keras\n",
        "from tensorflow.keras.layers import Conv2D, MaxPooling2D, Dropout, Flatten, Dense\n",
        "\n",
        "import numpy as np\n",
        "import matplotlib.pyplot as plt\n",
        "import pandas as pd\n",
        "import seaborn as sns"
      ],
      "execution_count": 2,
      "outputs": []
    },
    {
      "cell_type": "markdown",
      "metadata": {
        "id": "Cb080T9IU0Di"
      },
      "source": [
        "## Acquiring Data\n",
        "\n",
        "For this tutorial, we'll use data that's provided by the `keras` module itself. We'll load a *training set* and its associated *labels* (output) and a *test set* with labels. \n",
        "\n",
        "The data is [Boston Housing Price Data](https://keras.io/api/datasets/boston_housing/) which is composed of 13 factors that may predict the price of a house in Boston. The keras dataset is simply a numpy array, but we can see what each column refers to [here](http://lib.stat.cmu.edu/datasets/boston)."
      ]
    },
    {
      "cell_type": "code",
      "metadata": {
        "colab": {
          "base_uri": "https://localhost:8080/"
        },
        "id": "AeUyrOHXUUIt",
        "outputId": "1b2a7620-f373-4244-d374-f8a84ce6a7cf"
      },
      "source": [
        "(train_features, train_labels), (test_features, test_labels) = keras.datasets.boston_housing.load_data()"
      ],
      "execution_count": 3,
      "outputs": [
        {
          "output_type": "stream",
          "text": [
            "Downloading data from https://storage.googleapis.com/tensorflow/tf-keras-datasets/boston_housing.npz\n",
            "57344/57026 [==============================] - 0s 0us/step\n"
          ],
          "name": "stdout"
        }
      ]
    },
    {
      "cell_type": "markdown",
      "metadata": {
        "id": "1WOcfslnVTqf"
      },
      "source": [
        "Lets look at the data:"
      ]
    },
    {
      "cell_type": "code",
      "metadata": {
        "colab": {
          "base_uri": "https://localhost:8080/"
        },
        "id": "gnpGTPQGVVLh",
        "outputId": "9571c305-03e6-49de-a7d0-2c1b1ce77003"
      },
      "source": [
        "print(train_features.shape)\n",
        "print(train_labels.shape)"
      ],
      "execution_count": 6,
      "outputs": [
        {
          "output_type": "stream",
          "text": [
            "(404, 13)\n",
            "(404,)\n"
          ],
          "name": "stdout"
        }
      ]
    },
    {
      "cell_type": "markdown",
      "metadata": {
        "id": "gI0zNiTpVQMW"
      },
      "source": [
        "As you can see, we have 404 data observations and 13 pieces of information \n",
        "\n",
        "Now we need to set up the data for training the network. If we look at the data, we see that each line of data is all different magnitudes:"
      ]
    },
    {
      "cell_type": "code",
      "metadata": {
        "colab": {
          "base_uri": "https://localhost:8080/"
        },
        "id": "-nE3kW59VEPu",
        "outputId": "92d203cd-472d-4ad3-9d3e-ea4222afc040"
      },
      "source": [
        "print(train_features[0, :])"
      ],
      "execution_count": 9,
      "outputs": [
        {
          "output_type": "stream",
          "text": [
            "[  1.23247   0.        8.14      0.        0.538     6.142    91.7\n",
            "   3.9769    4.      307.       21.      396.9      18.72   ]\n"
          ],
          "name": "stdout"
        }
      ]
    },
    {
      "cell_type": "markdown",
      "metadata": {
        "id": "R8TnXxG1UseX"
      },
      "source": [
        "Neural networks are more effectively trained when data is *normalized*, so we're going to scale each column so that they're on the same scale.\n",
        "\n",
        "We do that by calculating the *z-score* of each datapoint (the number of standard deviations away from the mean):\n",
        "\n",
        "$$\\frac{x - \\bar{x}}{\\sigma}$$\n",
        "\n",
        "where $x$ is a data point, $\\bar{x}$ is the mean of the feature, and $\\sigma$ is the standard deviation of the feature."
      ]
    },
    {
      "cell_type": "code",
      "metadata": {
        "colab": {
          "base_uri": "https://localhost:8080/"
        },
        "id": "QNLrdecbUd7e",
        "outputId": "894dfea0-6739-482f-ed91-62210debb3cc"
      },
      "source": [
        "train_mean = np.mean(train_features, axis=0)\n",
        "print(train_mean.shape, train_mean)\n",
        "train_std = np.std(train_features, axis=0)\n",
        "\n",
        "normalized_train_features = (train_features - train_mean) / train_std"
      ],
      "execution_count": 11,
      "outputs": [
        {
          "output_type": "stream",
          "text": [
            "(13,) [3.74511057e+00 1.14801980e+01 1.11044307e+01 6.18811881e-02\n",
            " 5.57355941e-01 6.26708168e+00 6.90106436e+01 3.74027079e+00\n",
            " 9.44059406e+00 4.05898515e+02 1.84759901e+01 3.54783168e+02\n",
            " 1.27408168e+01]\n"
          ],
          "name": "stdout"
        }
      ]
    },
    {
      "cell_type": "markdown",
      "metadata": {
        "id": "uE2b5PRGVkx6"
      },
      "source": [
        "Now, if we look at the mean of the normalized train features, it will be zero for all features (within floating point error) and the standard deviation will be 1 for all features:"
      ]
    },
    {
      "cell_type": "code",
      "metadata": {
        "colab": {
          "base_uri": "https://localhost:8080/"
        },
        "id": "au5BfryGVjEz",
        "outputId": "4da4c1c2-cdfb-4318-a4c9-7278d1e3421f"
      },
      "source": [
        "print(np.mean(normalized_train_features, axis=0))\n",
        "print(np.std(normalized_train_features, axis=0))"
      ],
      "execution_count": 12,
      "outputs": [
        {
          "output_type": "stream",
          "text": [
            "[-1.01541438e-16  1.09923072e-17  1.74337992e-15 -1.26686340e-16\n",
            " -5.25377321e-15  6.41414864e-15  2.98441140e-16  4.94653823e-16\n",
            "  1.12671149e-17 -1.98136337e-16  2.36686358e-14  5.95679996e-15\n",
            "  6.13920356e-16]\n",
            "[1. 1. 1. 1. 1. 1. 1. 1. 1. 1. 1. 1. 1.]\n"
          ],
          "name": "stdout"
        }
      ]
    },
    {
      "cell_type": "markdown",
      "metadata": {
        "id": "ZI6NdR66V8mu"
      },
      "source": [
        "Now that our data is normalized, we need to build the structure of our neural network:"
      ]
    },
    {
      "cell_type": "code",
      "metadata": {
        "id": "7xdx6Fu_VGEa"
      },
      "source": [
        "def build_model():\n",
        "  model = keras.Sequential([\n",
        "                            Dense(20, activation=tf.nn.relu, input_shape=[normalized_train_features.shape[1]]),\n",
        "                            Dense(1)\n",
        "  ])\n",
        "\n",
        "  model.compile(optimizer=keras.optimizers.Adam(), loss='mse', metrics=['mae', 'mse'])\n",
        "  return model"
      ],
      "execution_count": 25,
      "outputs": []
    },
    {
      "cell_type": "markdown",
      "metadata": {
        "id": "ewQpzxfAW7JB"
      },
      "source": [
        "Now we need to train our neural network. \n",
        "\n",
        "Here's the next video in the [3Blue1Brown Neural Network series](https://www.youtube.com/watch?v=IHZwWFHWa-w)."
      ]
    },
    {
      "cell_type": "code",
      "metadata": {
        "colab": {
          "base_uri": "https://localhost:8080/"
        },
        "id": "EVi4As1zWnnD",
        "outputId": "be88208b-bd70-4e1b-a7d6-74bc451ee8c0"
      },
      "source": [
        "model = build_model()\n",
        "history = model.fit(normalized_train_features, train_labels, epochs=1000, validation_split=0.1, verbose=0)"
      ],
      "execution_count": 27,
      "outputs": [
        {
          "output_type": "stream",
          "text": [
            "(404, 13)\n"
          ],
          "name": "stdout"
        }
      ]
    },
    {
      "cell_type": "code",
      "metadata": {
        "colab": {
          "base_uri": "https://localhost:8080/",
          "height": 421
        },
        "id": "zAgbAYZqXa5z",
        "outputId": "8a556080-bbd3-4821-f14e-deb456fe3c9d"
      },
      "source": [
        "hist = pd.DataFrame(history.history)\n",
        "hist"
      ],
      "execution_count": 28,
      "outputs": [
        {
          "output_type": "execute_result",
          "data": {
            "text/html": [
              "<div>\n",
              "<style scoped>\n",
              "    .dataframe tbody tr th:only-of-type {\n",
              "        vertical-align: middle;\n",
              "    }\n",
              "\n",
              "    .dataframe tbody tr th {\n",
              "        vertical-align: top;\n",
              "    }\n",
              "\n",
              "    .dataframe thead th {\n",
              "        text-align: right;\n",
              "    }\n",
              "</style>\n",
              "<table border=\"1\" class=\"dataframe\">\n",
              "  <thead>\n",
              "    <tr style=\"text-align: right;\">\n",
              "      <th></th>\n",
              "      <th>loss</th>\n",
              "      <th>mae</th>\n",
              "      <th>mse</th>\n",
              "      <th>val_loss</th>\n",
              "      <th>val_mae</th>\n",
              "      <th>val_mse</th>\n",
              "    </tr>\n",
              "  </thead>\n",
              "  <tbody>\n",
              "    <tr>\n",
              "      <th>0</th>\n",
              "      <td>580.925476</td>\n",
              "      <td>22.447693</td>\n",
              "      <td>580.925476</td>\n",
              "      <td>487.670105</td>\n",
              "      <td>21.359173</td>\n",
              "      <td>487.670105</td>\n",
              "    </tr>\n",
              "    <tr>\n",
              "      <th>1</th>\n",
              "      <td>570.509949</td>\n",
              "      <td>22.216639</td>\n",
              "      <td>570.509949</td>\n",
              "      <td>477.833893</td>\n",
              "      <td>21.130222</td>\n",
              "      <td>477.833893</td>\n",
              "    </tr>\n",
              "    <tr>\n",
              "      <th>2</th>\n",
              "      <td>560.036560</td>\n",
              "      <td>21.985188</td>\n",
              "      <td>560.036560</td>\n",
              "      <td>467.805542</td>\n",
              "      <td>20.891569</td>\n",
              "      <td>467.805542</td>\n",
              "    </tr>\n",
              "    <tr>\n",
              "      <th>3</th>\n",
              "      <td>549.652832</td>\n",
              "      <td>21.755047</td>\n",
              "      <td>549.652832</td>\n",
              "      <td>457.435699</td>\n",
              "      <td>20.644960</td>\n",
              "      <td>457.435699</td>\n",
              "    </tr>\n",
              "    <tr>\n",
              "      <th>4</th>\n",
              "      <td>538.632629</td>\n",
              "      <td>21.512232</td>\n",
              "      <td>538.632629</td>\n",
              "      <td>446.658356</td>\n",
              "      <td>20.389324</td>\n",
              "      <td>446.658356</td>\n",
              "    </tr>\n",
              "    <tr>\n",
              "      <th>...</th>\n",
              "      <td>...</td>\n",
              "      <td>...</td>\n",
              "      <td>...</td>\n",
              "      <td>...</td>\n",
              "      <td>...</td>\n",
              "      <td>...</td>\n",
              "    </tr>\n",
              "    <tr>\n",
              "      <th>995</th>\n",
              "      <td>6.447272</td>\n",
              "      <td>1.787684</td>\n",
              "      <td>6.447272</td>\n",
              "      <td>5.822122</td>\n",
              "      <td>1.963209</td>\n",
              "      <td>5.822122</td>\n",
              "    </tr>\n",
              "    <tr>\n",
              "      <th>996</th>\n",
              "      <td>6.414618</td>\n",
              "      <td>1.787587</td>\n",
              "      <td>6.414618</td>\n",
              "      <td>5.991924</td>\n",
              "      <td>1.997857</td>\n",
              "      <td>5.991924</td>\n",
              "    </tr>\n",
              "    <tr>\n",
              "      <th>997</th>\n",
              "      <td>6.434526</td>\n",
              "      <td>1.791791</td>\n",
              "      <td>6.434526</td>\n",
              "      <td>5.874885</td>\n",
              "      <td>1.979417</td>\n",
              "      <td>5.874885</td>\n",
              "    </tr>\n",
              "    <tr>\n",
              "      <th>998</th>\n",
              "      <td>6.441901</td>\n",
              "      <td>1.791821</td>\n",
              "      <td>6.441901</td>\n",
              "      <td>5.726097</td>\n",
              "      <td>1.953447</td>\n",
              "      <td>5.726097</td>\n",
              "    </tr>\n",
              "    <tr>\n",
              "      <th>999</th>\n",
              "      <td>6.434062</td>\n",
              "      <td>1.792399</td>\n",
              "      <td>6.434062</td>\n",
              "      <td>5.855521</td>\n",
              "      <td>1.979024</td>\n",
              "      <td>5.855521</td>\n",
              "    </tr>\n",
              "  </tbody>\n",
              "</table>\n",
              "<p>1000 rows × 6 columns</p>\n",
              "</div>"
            ],
            "text/plain": [
              "           loss        mae         mse    val_loss    val_mae     val_mse\n",
              "0    580.925476  22.447693  580.925476  487.670105  21.359173  487.670105\n",
              "1    570.509949  22.216639  570.509949  477.833893  21.130222  477.833893\n",
              "2    560.036560  21.985188  560.036560  467.805542  20.891569  467.805542\n",
              "3    549.652832  21.755047  549.652832  457.435699  20.644960  457.435699\n",
              "4    538.632629  21.512232  538.632629  446.658356  20.389324  446.658356\n",
              "..          ...        ...         ...         ...        ...         ...\n",
              "995    6.447272   1.787684    6.447272    5.822122   1.963209    5.822122\n",
              "996    6.414618   1.787587    6.414618    5.991924   1.997857    5.991924\n",
              "997    6.434526   1.791791    6.434526    5.874885   1.979417    5.874885\n",
              "998    6.441901   1.791821    6.441901    5.726097   1.953447    5.726097\n",
              "999    6.434062   1.792399    6.434062    5.855521   1.979024    5.855521\n",
              "\n",
              "[1000 rows x 6 columns]"
            ]
          },
          "metadata": {
            "tags": []
          },
          "execution_count": 28
        }
      ]
    },
    {
      "cell_type": "code",
      "metadata": {
        "colab": {
          "base_uri": "https://localhost:8080/",
          "height": 280
        },
        "id": "A6jAUSn2YdP-",
        "outputId": "ad39f78f-db2d-489f-be82-3bbd2e49b51e"
      },
      "source": [
        "plt.plot(hist['mse'])\n",
        "plt.xlabel('Epoch')\n",
        "plt.ylabel('MSE');"
      ],
      "execution_count": 30,
      "outputs": [
        {
          "output_type": "display_data",
          "data": {
            "image/png": "[encoded data removed]",
            "text/plain": [
              "<Figure size 432x288 with 1 Axes>"
            ]
          },
          "metadata": {
            "tags": [],
            "needs_background": "light"
          }
        }
      ]
    },
    {
      "cell_type": "markdown",
      "metadata": {
        "id": "WCMUPI1DY9tH"
      },
      "source": [
        "Now lets look at a few pieces of test data and see what our network preducts!"
      ]
    },
    {
      "cell_type": "code",
      "metadata": {
        "colab": {
          "base_uri": "https://localhost:8080/"
        },
        "id": "i0XWHhOgYmDA",
        "outputId": "b60ab6f5-8d13-4dae-fc60-bf9b6be1b89d"
      },
      "source": [
        "normalized_test_features = (test_features - train_mean) / train_std\n",
        "normalized_test_features.shape"
      ],
      "execution_count": 39,
      "outputs": [
        {
          "output_type": "execute_result",
          "data": {
            "text/plain": [
              "(102, 13)"
            ]
          },
          "metadata": {
            "tags": []
          },
          "execution_count": 39
        }
      ]
    },
    {
      "cell_type": "code",
      "metadata": {
        "colab": {
          "base_uri": "https://localhost:8080/",
          "height": 296
        },
        "id": "Uwhxz4ZyZK8F",
        "outputId": "2dc9d19f-9c9e-416c-8344-10d2d914dea8"
      },
      "source": [
        "result = model.predict(normalized_test_features)\n",
        "print(result.shape)\n",
        "\n",
        "plt.scatter(test_labels, result[:, 0])\n",
        "plt.xlabel('True Value (1000s of $)')\n",
        "plt.ylabel('Predicted Value (1000s of $)');\n"
      ],
      "execution_count": 41,
      "outputs": [
        {
          "output_type": "stream",
          "text": [
            "(102, 1)\n"
          ],
          "name": "stdout"
        },
        {
          "output_type": "display_data",
          "data": {
            "image/png": "[encoded data removed]",
            "text/plain": [
              "<Figure size 432x288 with 1 Axes>"
            ]
          },
          "metadata": {
            "tags": [],
            "needs_background": "light"
          }
        }
      ]
    },
    {
      "cell_type": "code",
      "metadata": {
        "id": "fDdDxgbYZaVN"
      },
      "source": [
        ""
      ],
      "execution_count": null,
      "outputs": []
    }
  ]
}