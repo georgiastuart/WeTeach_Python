{
  "nbformat": 4,
  "nbformat_minor": 0,
  "metadata": {
    "colab": {
      "name": "WeTeach_Python Day 2 Lesson 2",
      "provenance": [],
      "authorship_tag": "ABX9TyMo9iPeoXs/JOJrNo6pPtC1",
      "include_colab_link": true
    },
    "kernelspec": {
      "name": "python3",
      "display_name": "Python 3"
    },
    "language_info": {
      "name": "python"
    }
  },
  "cells": [
    {
      "cell_type": "markdown",
      "metadata": {
        "id": "view-in-github",
        "colab_type": "text"
      },
      "source": [
        "<a href=\"https://colab.research.google.com/github/georgiastuart/WeTeach_Python/blob/main/WeTeach_Python_Day_2_Lesson_2.ipynb\" target=\"_parent\"><img src=\"https://colab.research.google.com/assets/colab-badge.svg\" alt=\"Open In Colab\"/></a>"
      ]
    },
    {
      "cell_type": "markdown",
      "metadata": {
        "id": "JGaCT1Tcuz4p"
      },
      "source": [
        "# WeTeach_Python Day 2 Lesson 2: Interacting with Data APIs\n",
        "\n",
        "Another way to access data from online applications is with a web *API* (application programming interface). \n",
        "\n",
        "We will use REST (Representational state transfer) methods to retrieve data. \n",
        "\n",
        "Here's a big list of public APIs: https://github.com/public-apis/public-apis \n",
        "\n",
        "Lets have some fun with baseball statistics!\n",
        "\n",
        "https://appac.github.io/mlb-data-api-docs/ \n"
      ]
    },
    {
      "cell_type": "code",
      "metadata": {
        "id": "3YOsHQmgsebu"
      },
      "source": [
        "import requests\n",
        "import json\n",
        "import pandas as pd"
      ],
      "execution_count": 31,
      "outputs": []
    },
    {
      "cell_type": "code",
      "metadata": {
        "id": "7M5aSPazyTsT"
      },
      "source": [
        "url = \"http://lookup-service-prod.mlb.com/\""
      ],
      "execution_count": null,
      "outputs": []
    },
    {
      "cell_type": "code",
      "metadata": {
        "colab": {
          "base_uri": "https://localhost:8080/"
        },
        "id": "v9codmzmxy_y",
        "outputId": "48287a8f-cb9c-4335-db02-2bca500f690e"
      },
      "source": [
        "teams = requests.get(url + \"json/named.team_all_season.bam?sport_code='mlb'&all_star_sw='N'&sort_order='name_asc'&season=2019\")\n",
        "teams"
      ],
      "execution_count": null,
      "outputs": [
        {
          "output_type": "execute_result",
          "data": {
            "text/plain": [
              "<Response [200]>"
            ]
          },
          "metadata": {
            "tags": []
          },
          "execution_count": 22
        }
      ]
    },
    {
      "cell_type": "code",
      "metadata": {
        "colab": {
          "base_uri": "https://localhost:8080/"
        },
        "id": "IXF6vRsIyPHB",
        "outputId": "d24a73d6-e25b-4ce7-b429-f5a37f90e776"
      },
      "source": [
        "team_data = teams.json()\n",
        "team_list = team_data['team_all_season']['queryResults']['row']\n",
        "team_data['team_all_season']['queryResults']['row'][0].keys()"
      ],
      "execution_count": null,
      "outputs": [
        {
          "output_type": "execute_result",
          "data": {
            "text/plain": [
              "dict_keys(['phone_number', 'venue_name', 'franchise_code', 'all_star_sw', 'sport_code', 'address_city', 'city', 'name_display_full', 'spring_league_abbrev', 'time_zone_alt', 'sport_id', 'venue_id', 'mlb_org_id', 'time_zone_generic', 'mlb_org', 'last_year_of_play', 'league_full', 'home_opener_time', 'address_province', 'league_id', 'name_abbrev', 'bis_team_code', 'league', 'spring_league', 'base_url', 'address_zip', 'sport_code_display', 'mlb_org_short', 'time_zone', 'address_line1', 'mlb_org_brief', 'address_line2', 'season', 'address_line3', 'division_abbrev', 'name_display_short', 'team_id', 'active_sw', 'address_intl', 'state', 'address_country', 'mlb_org_abbrev', 'division', 'team_code', 'name', 'website_url', 'sport_code_name', 'first_year_of_play', 'league_abbrev', 'name_display_long', 'store_url', 'time_zone_text', 'name_short', 'home_opener', 'address_state', 'division_full', 'time_zone_num', 'spring_league_full', 'address', 'name_display_brief', 'file_code', 'division_id', 'spring_league_id', 'venue_short'])"
            ]
          },
          "metadata": {
            "tags": []
          },
          "execution_count": 26
        }
      ]
    },
    {
      "cell_type": "code",
      "metadata": {
        "colab": {
          "base_uri": "https://localhost:8080/"
        },
        "id": "cBQzoRujzHNU",
        "outputId": "e7b92d18-731e-4392-993c-7bbaa97e9e92"
      },
      "source": [
        "for team in team_list:\n",
        "  print(team['name_display_full'], team['mlb_org_id'])"
      ],
      "execution_count": null,
      "outputs": [
        {
          "output_type": "stream",
          "text": [
            "Arizona Diamondbacks 109\n",
            "Atlanta Braves 144\n",
            "Baltimore Orioles 110\n",
            "Boston Red Sox 111\n",
            "Chicago Cubs 112\n",
            "Chicago White Sox 145\n",
            "Cincinnati Reds 113\n",
            "Cleveland Indians 114\n",
            "Colorado Rockies 115\n",
            "Detroit Tigers 116\n",
            "Houston Astros 117\n",
            "Kansas City Royals 118\n",
            "Los Angeles Angels 108\n",
            "Los Angeles Dodgers 119\n",
            "Miami Marlins 146\n",
            "Milwaukee Brewers 158\n",
            "Minnesota Twins 142\n",
            "New York Mets 121\n",
            "New York Yankees 147\n",
            "Oakland Athletics 133\n",
            "Philadelphia Phillies 143\n",
            "Pittsburgh Pirates 134\n",
            "San Diego Padres 135\n",
            "San Francisco Giants 137\n",
            "Seattle Mariners 136\n",
            "St. Louis Cardinals 138\n",
            "Tampa Bay Rays 139\n",
            "Texas Rangers 140\n",
            "Toronto Blue Jays 141\n",
            "Washington Nationals 120\n"
          ],
          "name": "stdout"
        }
      ]
    },
    {
      "cell_type": "code",
      "metadata": {
        "id": "ER3Vo2KXyYuR"
      },
      "source": [
        "rbi_list = []\n",
        "avg_list = []\n",
        "\n",
        "team_id = [135]\n",
        "\n",
        "for index, teamid in enumerate(team_id):\n",
        "  players = requests.get(url + \"json/named.roster_team_alltime.bam?start_season=2019&end_season=2019&team_id={}\".format(teamid))\n",
        "  player_list = players.json()['roster_team_alltime']['queryResults']['row']\n",
        "\n",
        "  for player in player_list:\n",
        "    hitting_stats = requests.get(url + \"json/named.sport_career_hitting.bam?league_list_id='mlb'&game_type='R'&player_id={}\".format(player['player_id']))\n",
        "\n",
        "    try:\n",
        "      hitting_stats_dict = hitting_stats.json()['sport_career_hitting']['queryResults']['row']\n",
        "\n",
        "      rbi_list.append(hitting_stats_dict['rbi'])\n",
        "      avg_list.append(hitting_stats_dict['avg'])\n",
        "    except KeyError:\n",
        "      pass"
      ],
      "execution_count": 37,
      "outputs": []
    },
    {
      "cell_type": "code",
      "metadata": {
        "colab": {
          "base_uri": "https://localhost:8080/"
        },
        "id": "8372t-EACiez",
        "outputId": "f615c1cc-960e-4318-d891-679205174dce"
      },
      "source": [
        "print(rbi_list)\n",
        "print(avg_list)"
      ],
      "execution_count": 39,
      "outputs": [
        {
          "output_type": "stream",
          "text": [
            "['7', '0', '0', '0', '0', '1', '1', '45', '0', '116', '0', '2', '84', '99', '1', '159', '811', '45', '909', '0', '4', '0', '2', '705', '0', '185', '27', '1', '47', '5', '0', '0', '454', '59', '2', '6', '82', '1', '272', '184', '0', '1', '10', '0', '1', '158', '33', '82', '0', '0', '0', '3', '0', '0']\n",
            "['.206', '.200', '.000', '', '', '.000', '.000', '.222', '.000', '.263', '.000', '.111', '.263', '.245', '.125', '.193', '.277', '.240', '.269', '.098', '.085', '.000', '.054', '.279', '.200', '.250', '.261', '.200', '.231', '.233', '.000', '', '.254', '.250', '.075', '.131', '.257', '.111', '.234', '.264', '.000', '.050', '.220', '.000', '.207', '.296', '.208', '.231', '.000', '.000', '', '.126', '', '.000']\n"
          ],
          "name": "stdout"
        }
      ]
    },
    {
      "cell_type": "code",
      "metadata": {
        "id": "DJYdo5ZvLmVN"
      },
      "source": [
        ""
      ],
      "execution_count": null,
      "outputs": []
    }
  ]
}