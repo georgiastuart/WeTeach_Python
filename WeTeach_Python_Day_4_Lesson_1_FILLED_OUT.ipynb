{
  "nbformat": 4,
  "nbformat_minor": 0,
  "metadata": {
    "colab": {
      "name": "WeTeach_Python Day 4 Lesson 1 - FILLED OUT",
      "provenance": [],
      "authorship_tag": "ABX9TyOcrcj8er3z1JkYVlM3wiDx",
      "include_colab_link": true
    },
    "kernelspec": {
      "name": "python3",
      "display_name": "Python 3"
    },
    "language_info": {
      "name": "python"
    }
  },
  "cells": [
    {
      "cell_type": "markdown",
      "metadata": {
        "id": "view-in-github",
        "colab_type": "text"
      },
      "source": [
        "<a href=\"https://colab.research.google.com/github/georgiastuart/WeTeach_Python/blob/main/WeTeach_Python_Day_4_Lesson_1_FILLED_OUT.ipynb\" target=\"_parent\"><img src=\"https://colab.research.google.com/assets/colab-badge.svg\" alt=\"Open In Colab\"/></a>"
      ]
    },
    {
      "cell_type": "markdown",
      "metadata": {
        "id": "aWiKxsW_QwbJ"
      },
      "source": [
        "# WeTeach Python Day 4 Lesson 1: Introduction to Regression Neural Networks\n",
        "\n",
        "This lesson is inspired by [this notebook](https://www.kaggle.com/arunkumarramanan/tensorflow-tutorial-and-housing-price-prediction) on Kaggle. \n",
        "\n",
        "We will use the [Tensorflow](https://www.tensorflow.org/api_docs/python/tf) Python library in order to build a neural network to predict housing prices (in 1970s Boston). \n",
        "\n",
        "## What is a Neural Network?\n",
        "\n",
        "A *neural network* is a mathematical structure composed of layers of neurons inspired by how our brains work. \n",
        "\n",
        "[This 3Blue1Brown video](https://www.youtube.com/watch?v=aircAruvnKk) is a great introduction to the structure of neural networks."
      ]
    },
    {
      "cell_type": "code",
      "metadata": {
        "id": "BK-AagUcQdoN"
      },
      "source": [
        "import tensorflow as tf\n",
        "from tensorflow import keras\n",
        "from tensorflow.keras.layers import Conv2D, MaxPooling2D, Dropout, Flatten, Dense\n",
        "\n",
        "import numpy as np\n",
        "import matplotlib.pyplot as plt\n",
        "import pandas as pd\n",
        "import seaborn as sns"
      ],
      "execution_count": 2,
      "outputs": []
    },
    {
      "cell_type": "markdown",
      "metadata": {
        "id": "Cb080T9IU0Di"
      },
      "source": [
        "## Acquiring Data\n",
        "\n",
        "For this tutorial, we'll use data that's provided by the `keras` module itself. We'll load a *training set* and its associated *labels* (output) and a *test set* with labels. \n",
        "\n",
        "The data is [Boston Housing Price Data](https://keras.io/api/datasets/boston_housing/) which is composed of 13 factors that may predict the price of a house in Boston. The keras dataset is simply a numpy array, but we can see what each column refers to [here](http://lib.stat.cmu.edu/datasets/boston)."
      ]
    },
    {
      "cell_type": "code",
      "metadata": {
        "id": "AeUyrOHXUUIt"
      },
      "source": [
        "(train_features, train_labels), (test_features, test_labels) = keras.datasets.boston_housing.load_data()"
      ],
      "execution_count": 42,
      "outputs": []
    },
    {
      "cell_type": "markdown",
      "metadata": {
        "id": "1WOcfslnVTqf"
      },
      "source": [
        "Lets look at the data:"
      ]
    },
    {
      "cell_type": "code",
      "metadata": {
        "colab": {
          "base_uri": "https://localhost:8080/"
        },
        "id": "gnpGTPQGVVLh",
        "outputId": "21ca04e1-5790-429b-bdc7-9727a31a6aff"
      },
      "source": [
        "print(train_features.shape)\n",
        "print(train_labels.shape)"
      ],
      "execution_count": 43,
      "outputs": [
        {
          "output_type": "stream",
          "text": [
            "(404, 13)\n",
            "(404,)\n"
          ],
          "name": "stdout"
        }
      ]
    },
    {
      "cell_type": "markdown",
      "metadata": {
        "id": "gI0zNiTpVQMW"
      },
      "source": [
        "As you can see, we have 404 data observations and 13 pieces of information \n",
        "\n",
        "Now we need to set up the data for training the network. If we look at the data, we see that each line of data is all different magnitudes:"
      ]
    },
    {
      "cell_type": "code",
      "metadata": {
        "colab": {
          "base_uri": "https://localhost:8080/"
        },
        "id": "-nE3kW59VEPu",
        "outputId": "7ff6fbdf-e06f-401b-c3bd-b8c92799cab0"
      },
      "source": [
        "print(train_features[0, :])"
      ],
      "execution_count": 44,
      "outputs": [
        {
          "output_type": "stream",
          "text": [
            "[  1.23247   0.        8.14      0.        0.538     6.142    91.7\n",
            "   3.9769    4.      307.       21.      396.9      18.72   ]\n"
          ],
          "name": "stdout"
        }
      ]
    },
    {
      "cell_type": "markdown",
      "metadata": {
        "id": "R8TnXxG1UseX"
      },
      "source": [
        "Neural networks are more effectively trained when data is *normalized*, so we're going to scale each column so that they're on the same scale.\n",
        "\n",
        "We do that by calculating the *z-score* of each datapoint (the number of standard deviations away from the mean):\n",
        "\n",
        "$$\\frac{x - \\bar{x}}{\\sigma}$$\n",
        "\n",
        "where $x$ is a data point, $\\bar{x}$ is the mean of the feature, and $\\sigma$ is the standard deviation of the feature."
      ]
    },
    {
      "cell_type": "code",
      "metadata": {
        "colab": {
          "base_uri": "https://localhost:8080/"
        },
        "id": "QNLrdecbUd7e",
        "outputId": "38100ab6-9d23-4165-a085-c7535917c664"
      },
      "source": [
        "train_mean = np.mean(train_features, axis=0)\n",
        "print(train_mean.shape, train_mean)\n",
        "train_std = np.std(train_features, axis=0)\n",
        "\n",
        "normalized_train_features = (train_features - train_mean) / train_std\n",
        "print(normalized_train_features.shape)"
      ],
      "execution_count": 47,
      "outputs": [
        {
          "output_type": "stream",
          "text": [
            "(13,) [3.74511057e+00 1.14801980e+01 1.11044307e+01 6.18811881e-02\n",
            " 5.57355941e-01 6.26708168e+00 6.90106436e+01 3.74027079e+00\n",
            " 9.44059406e+00 4.05898515e+02 1.84759901e+01 3.54783168e+02\n",
            " 1.27408168e+01]\n",
            "(404, 13)\n"
          ],
          "name": "stdout"
        }
      ]
    },
    {
      "cell_type": "markdown",
      "metadata": {
        "id": "uE2b5PRGVkx6"
      },
      "source": [
        "Now, if we look at the mean of the normalized train features, it will be zero for all features (within floating point error) and the standard deviation will be 1 for all features:"
      ]
    },
    {
      "cell_type": "code",
      "metadata": {
        "colab": {
          "base_uri": "https://localhost:8080/"
        },
        "id": "au5BfryGVjEz",
        "outputId": "b88726d4-82ec-46a2-fde8-b8fe69e71e1d"
      },
      "source": [
        "print(np.mean(normalized_train_features, axis=0))\n",
        "print(np.std(normalized_train_features, axis=0))"
      ],
      "execution_count": 48,
      "outputs": [
        {
          "output_type": "stream",
          "text": [
            "[-1.01541438e-16  1.09923072e-17  1.74337992e-15 -1.26686340e-16\n",
            " -5.25377321e-15  6.41414864e-15  2.98441140e-16  4.94653823e-16\n",
            "  1.12671149e-17 -1.98136337e-16  2.36686358e-14  5.95679996e-15\n",
            "  6.13920356e-16]\n",
            "[1. 1. 1. 1. 1. 1. 1. 1. 1. 1. 1. 1. 1.]\n"
          ],
          "name": "stdout"
        }
      ]
    },
    {
      "cell_type": "markdown",
      "metadata": {
        "id": "ZI6NdR66V8mu"
      },
      "source": [
        "Now that our data is normalized, we need to build the structure of our neural network:"
      ]
    },
    {
      "cell_type": "code",
      "metadata": {
        "id": "7xdx6Fu_VGEa"
      },
      "source": [
        "def build_model():\n",
        "  model = keras.Sequential([\n",
        "                            Dense(5, activation=tf.nn.relu, input_shape=[normalized_train_features.shape[1]]),\n",
        "                            Dense(1)\n",
        "  ])\n",
        "\n",
        "  model.compile(optimizer=keras.optimizers.Adam(), loss='mse', metrics=['mae', 'mse'])\n",
        "  return model"
      ],
      "execution_count": 62,
      "outputs": []
    },
    {
      "cell_type": "markdown",
      "metadata": {
        "id": "ewQpzxfAW7JB"
      },
      "source": [
        "Now we need to train our neural network. \n",
        "\n",
        "Here's the next video in the [3Blue1Brown Neural Network series](https://www.youtube.com/watch?v=IHZwWFHWa-w)."
      ]
    },
    {
      "cell_type": "code",
      "metadata": {
        "id": "EVi4As1zWnnD"
      },
      "source": [
        "model = build_model()\n",
        "history = model.fit(normalized_train_features, train_labels, epochs=1000, validation_split=0.1, verbose=0)"
      ],
      "execution_count": 63,
      "outputs": []
    },
    {
      "cell_type": "code",
      "metadata": {
        "colab": {
          "base_uri": "https://localhost:8080/",
          "height": 421
        },
        "id": "zAgbAYZqXa5z",
        "outputId": "d6170b05-5e66-4aad-d7b7-e936c1ac9201"
      },
      "source": [
        "hist = pd.DataFrame(history.history)\n",
        "hist"
      ],
      "execution_count": 64,
      "outputs": [
        {
          "output_type": "execute_result",
          "data": {
            "text/html": [
              "<div>\n",
              "<style scoped>\n",
              "    .dataframe tbody tr th:only-of-type {\n",
              "        vertical-align: middle;\n",
              "    }\n",
              "\n",
              "    .dataframe tbody tr th {\n",
              "        vertical-align: top;\n",
              "    }\n",
              "\n",
              "    .dataframe thead th {\n",
              "        text-align: right;\n",
              "    }\n",
              "</style>\n",
              "<table border=\"1\" class=\"dataframe\">\n",
              "  <thead>\n",
              "    <tr style=\"text-align: right;\">\n",
              "      <th></th>\n",
              "      <th>loss</th>\n",
              "      <th>mae</th>\n",
              "      <th>mse</th>\n",
              "      <th>val_loss</th>\n",
              "      <th>val_mae</th>\n",
              "      <th>val_mse</th>\n",
              "    </tr>\n",
              "  </thead>\n",
              "  <tbody>\n",
              "    <tr>\n",
              "      <th>0</th>\n",
              "      <td>568.865784</td>\n",
              "      <td>22.119633</td>\n",
              "      <td>568.865784</td>\n",
              "      <td>481.431458</td>\n",
              "      <td>21.126366</td>\n",
              "      <td>481.431458</td>\n",
              "    </tr>\n",
              "    <tr>\n",
              "      <th>1</th>\n",
              "      <td>564.444458</td>\n",
              "      <td>22.023638</td>\n",
              "      <td>564.444458</td>\n",
              "      <td>477.730804</td>\n",
              "      <td>21.036585</td>\n",
              "      <td>477.730804</td>\n",
              "    </tr>\n",
              "    <tr>\n",
              "      <th>2</th>\n",
              "      <td>560.093994</td>\n",
              "      <td>21.926533</td>\n",
              "      <td>560.093994</td>\n",
              "      <td>473.966736</td>\n",
              "      <td>20.945871</td>\n",
              "      <td>473.966736</td>\n",
              "    </tr>\n",
              "    <tr>\n",
              "      <th>3</th>\n",
              "      <td>555.577515</td>\n",
              "      <td>21.828876</td>\n",
              "      <td>555.577515</td>\n",
              "      <td>470.188965</td>\n",
              "      <td>20.853436</td>\n",
              "      <td>470.188965</td>\n",
              "    </tr>\n",
              "    <tr>\n",
              "      <th>4</th>\n",
              "      <td>551.180054</td>\n",
              "      <td>21.729425</td>\n",
              "      <td>551.180054</td>\n",
              "      <td>466.349274</td>\n",
              "      <td>20.759926</td>\n",
              "      <td>466.349274</td>\n",
              "    </tr>\n",
              "    <tr>\n",
              "      <th>...</th>\n",
              "      <td>...</td>\n",
              "      <td>...</td>\n",
              "      <td>...</td>\n",
              "      <td>...</td>\n",
              "      <td>...</td>\n",
              "      <td>...</td>\n",
              "    </tr>\n",
              "    <tr>\n",
              "      <th>995</th>\n",
              "      <td>9.481346</td>\n",
              "      <td>2.163974</td>\n",
              "      <td>9.481346</td>\n",
              "      <td>10.173475</td>\n",
              "      <td>2.600068</td>\n",
              "      <td>10.173475</td>\n",
              "    </tr>\n",
              "    <tr>\n",
              "      <th>996</th>\n",
              "      <td>9.481161</td>\n",
              "      <td>2.163813</td>\n",
              "      <td>9.481161</td>\n",
              "      <td>10.101345</td>\n",
              "      <td>2.586383</td>\n",
              "      <td>10.101345</td>\n",
              "    </tr>\n",
              "    <tr>\n",
              "      <th>997</th>\n",
              "      <td>9.481813</td>\n",
              "      <td>2.163042</td>\n",
              "      <td>9.481813</td>\n",
              "      <td>10.118788</td>\n",
              "      <td>2.596828</td>\n",
              "      <td>10.118788</td>\n",
              "    </tr>\n",
              "    <tr>\n",
              "      <th>998</th>\n",
              "      <td>9.468732</td>\n",
              "      <td>2.162026</td>\n",
              "      <td>9.468732</td>\n",
              "      <td>10.158693</td>\n",
              "      <td>2.603816</td>\n",
              "      <td>10.158693</td>\n",
              "    </tr>\n",
              "    <tr>\n",
              "      <th>999</th>\n",
              "      <td>9.466754</td>\n",
              "      <td>2.161043</td>\n",
              "      <td>9.466754</td>\n",
              "      <td>10.124174</td>\n",
              "      <td>2.596889</td>\n",
              "      <td>10.124174</td>\n",
              "    </tr>\n",
              "  </tbody>\n",
              "</table>\n",
              "<p>1000 rows × 6 columns</p>\n",
              "</div>"
            ],
            "text/plain": [
              "           loss        mae         mse    val_loss    val_mae     val_mse\n",
              "0    568.865784  22.119633  568.865784  481.431458  21.126366  481.431458\n",
              "1    564.444458  22.023638  564.444458  477.730804  21.036585  477.730804\n",
              "2    560.093994  21.926533  560.093994  473.966736  20.945871  473.966736\n",
              "3    555.577515  21.828876  555.577515  470.188965  20.853436  470.188965\n",
              "4    551.180054  21.729425  551.180054  466.349274  20.759926  466.349274\n",
              "..          ...        ...         ...         ...        ...         ...\n",
              "995    9.481346   2.163974    9.481346   10.173475   2.600068   10.173475\n",
              "996    9.481161   2.163813    9.481161   10.101345   2.586383   10.101345\n",
              "997    9.481813   2.163042    9.481813   10.118788   2.596828   10.118788\n",
              "998    9.468732   2.162026    9.468732   10.158693   2.603816   10.158693\n",
              "999    9.466754   2.161043    9.466754   10.124174   2.596889   10.124174\n",
              "\n",
              "[1000 rows x 6 columns]"
            ]
          },
          "metadata": {
            "tags": []
          },
          "execution_count": 64
        }
      ]
    },
    {
      "cell_type": "code",
      "metadata": {
        "colab": {
          "base_uri": "https://localhost:8080/",
          "height": 279
        },
        "id": "A6jAUSn2YdP-",
        "outputId": "76f7ae04-bef8-41d7-f4fd-ff4e4345769f"
      },
      "source": [
        "plt.plot(hist['mse'])\n",
        "plt.xlabel('Epoch')\n",
        "plt.ylabel('MSE');"
      ],
      "execution_count": 65,
      "outputs": [
        {
          "output_type": "display_data",
          "data": {
            "image/png": "[encoded data removed]",
            "text/plain": [
              "<Figure size 432x288 with 1 Axes>"
            ]
          },
          "metadata": {
            "tags": [],
            "needs_background": "light"
          }
        }
      ]
    },
    {
      "cell_type": "markdown",
      "metadata": {
        "id": "WCMUPI1DY9tH"
      },
      "source": [
        "Now lets look at a few pieces of test data and see what our network preducts!"
      ]
    },
    {
      "cell_type": "code",
      "metadata": {
        "colab": {
          "base_uri": "https://localhost:8080/"
        },
        "id": "i0XWHhOgYmDA",
        "outputId": "8080fef3-5292-49cd-fb2b-ac16c85137b4"
      },
      "source": [
        "normalized_test_features = (test_features - train_mean) / train_std\n",
        "normalized_test_features.shape"
      ],
      "execution_count": 66,
      "outputs": [
        {
          "output_type": "execute_result",
          "data": {
            "text/plain": [
              "(102, 13)"
            ]
          },
          "metadata": {
            "tags": []
          },
          "execution_count": 66
        }
      ]
    },
    {
      "cell_type": "code",
      "metadata": {
        "colab": {
          "base_uri": "https://localhost:8080/",
          "height": 296
        },
        "id": "Uwhxz4ZyZK8F",
        "outputId": "16008b09-788a-47fa-d3a6-4385c7fab163"
      },
      "source": [
        "result = model.predict(normalized_test_features)\n",
        "print(result.shape)\n",
        "\n",
        "plt.scatter(test_labels, result[:, 0])\n",
        "plt.xlabel('True Value (1000s of $)')\n",
        "plt.ylabel('Predicted Value (1000s of $)');\n"
      ],
      "execution_count": 67,
      "outputs": [
        {
          "output_type": "stream",
          "text": [
            "(102, 1)\n"
          ],
          "name": "stdout"
        },
        {
          "output_type": "display_data",
          "data": {
            "image/png": "[encoded data removed]",
            "text/plain": [
              "<Figure size 432x288 with 1 Axes>"
            ]
          },
          "metadata": {
            "tags": [],
            "needs_background": "light"
          }
        }
      ]
    },
    {
      "cell_type": "code",
      "metadata": {
        "id": "fDdDxgbYZaVN"
      },
      "source": [
        ""
      ],
      "execution_count": null,
      "outputs": []
    }
  ]
}