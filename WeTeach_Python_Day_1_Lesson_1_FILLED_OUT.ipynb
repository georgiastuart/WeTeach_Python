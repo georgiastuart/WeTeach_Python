{
  "nbformat": 4,
  "nbformat_minor": 0,
  "metadata": {
    "colab": {
      "name": "WeTeach_Python Day 1 Lesson 1 - FILLED OUT",
      "provenance": [],
      "collapsed_sections": [],
      "authorship_tag": "ABX9TyOPwqFxip+G5eCkXY9+B6Tp",
      "include_colab_link": true
    },
    "kernelspec": {
      "name": "python3",
      "display_name": "Python 3"
    },
    "language_info": {
      "name": "python"
    }
  },
  "cells": [
    {
      "cell_type": "markdown",
      "metadata": {
        "id": "view-in-github",
        "colab_type": "text"
      },
      "source": [
        "<a href=\"https://colab.research.google.com/github/georgiastuart/WeTeach_Python/blob/main/WeTeach_Python_Day_1_Lesson_1_FILLED_OUT.ipynb\" target=\"_parent\"><img src=\"https://colab.research.google.com/assets/colab-badge.svg\" alt=\"Open In Colab\"/></a>"
      ]
    },
    {
      "cell_type": "markdown",
      "metadata": {
        "id": "uW_4YxLFVq58"
      },
      "source": [
        "# WeTeach_Python Day 1 Lesson 1: Python Review\n",
        "\n",
        "Welcome to WeTeach_Python! In this training we will:\n",
        "- learn to use Jupyter notebooks via Google colab\n",
        "- learn why and how to use version control (Git)\n",
        "- use File I/O to import datasets into Python\n",
        "- carry out basic data analysis\n",
        "- visualize data using a variety of methods\n",
        "- use REST-based data APIs\n",
        "- interact with the linux command line\n",
        "- use a super computer\n",
        "- complete a data science project in Python"
      ]
    },
    {
      "cell_type": "markdown",
      "metadata": {
        "id": "IrtWJ7FSgX4t"
      },
      "source": [
        "## Python Review\n",
        "\n",
        "We can `print` to the output region using the `print()` function:"
      ]
    },
    {
      "cell_type": "code",
      "metadata": {
        "id": "0-R3M4qLky2f",
        "colab": {
          "base_uri": "https://localhost:8080/"
        },
        "outputId": "a440d220-0fda-47c9-b10d-a65610389757"
      },
      "source": [
        "print('Hello world!')"
      ],
      "execution_count": 1,
      "outputs": [
        {
          "output_type": "stream",
          "text": [
            "Hello world!\n"
          ],
          "name": "stdout"
        }
      ]
    },
    {
      "cell_type": "markdown",
      "metadata": {
        "id": "ZWyliY4zgrvE"
      },
      "source": [
        "### Variables\n",
        "\n",
        "**Variables** in Python are declared and set with the assignment operator, `=`.\n",
        "\n",
        "Python uses the **snake case** convention: `snake_case`. Variables are lower case and words are separated with the underscore character.\n",
        "\n",
        "In a Jupyter notebook, we can output the value of a variable to the output region simply by typing the name."
      ]
    },
    {
      "cell_type": "code",
      "metadata": {
        "colab": {
          "base_uri": "https://localhost:8080/"
        },
        "id": "SeGXCjRlggiI",
        "outputId": "2acd8e61-9615-4553-a0a3-490e216fd91c"
      },
      "source": [
        "my_variable = 10\n",
        "print(my_variable)"
      ],
      "execution_count": 2,
      "outputs": [
        {
          "output_type": "stream",
          "text": [
            "10\n"
          ],
          "name": "stdout"
        }
      ]
    },
    {
      "cell_type": "markdown",
      "metadata": {
        "id": "SC3n4G1298wv"
      },
      "source": [
        "Variables in Python are not locked to a single type. For example, this is valid python code:"
      ]
    },
    {
      "cell_type": "code",
      "metadata": {
        "colab": {
          "base_uri": "https://localhost:8080/"
        },
        "id": "mipIojpE-CN-",
        "outputId": "823c3d7c-fc41-426a-cab1-d02c8efbcd64"
      },
      "source": [
        "my_variable = 10\n",
        "print(my_variable)\n",
        "my_variable = 'dog'\n",
        "print(my_variable)"
      ],
      "execution_count": 3,
      "outputs": [
        {
          "output_type": "stream",
          "text": [
            "10\n",
            "dog\n"
          ],
          "name": "stdout"
        }
      ]
    },
    {
      "cell_type": "markdown",
      "metadata": {
        "id": "A3jRcggHhmhE"
      },
      "source": [
        "### User input\n",
        "\n",
        "We can take user input with the `input()` function. If you need an `int` or a `float`, you must **cast** it with the   grade = input('Enter your grade: ')\n",
        "` or `float()` functions:\n",
        "\n",
        "```python\n",
        "my_string = input('What is your name?')\n",
        "my_int = int(input('How old are you (in whole numbers)?'))\n",
        "my_float = float(input('What is Pi to two decimal places?'))\n",
        "```\n",
        "\n",
        "### Conditionals\n",
        "\n",
        "Python does not have a switch structure (yet), but it does have if - else if - else:\n",
        "\n",
        "```python\n",
        "if <condition>:\n",
        "  <code block>\n",
        "elif <another condition>:\n",
        "  <code block>\n",
        "else:\n",
        "  <final code block>\n",
        "```\n",
        "\n",
        "You can use as many `elif`s as you need.\n",
        "\n",
        "Here's an example:"
      ]
    },
    {
      "cell_type": "code",
      "metadata": {
        "colab": {
          "base_uri": "https://localhost:8080/"
        },
        "id": "_ZdvDll3hP4S",
        "outputId": "cfdabfd1-2105-40c7-8b68-6eab8ef8b9b7"
      },
      "source": [
        "grade = input('Enter your grade: ')\n",
        "\n",
        "try:\n",
        "  grade = float(grade)\n",
        "\n",
        "  if grade >= 90:\n",
        "    print('You got an A')\n",
        "  elif grade >= 80:\n",
        "    print('You got a B')\n",
        "  elif grade >= 70:\n",
        "    print('You got a C')\n",
        "  elif grade >= 60:\n",
        "    print('You got a D')\n",
        "  else:\n",
        "    print('You got an F')\n",
        "except ValueError:\n",
        "  print('{} is not valid input!'.format(grade))"
      ],
      "execution_count": 6,
      "outputs": [
        {
          "output_type": "stream",
          "text": [
            "Enter your grade: dog\n",
            "dog is not valid input!\n"
          ],
          "name": "stdout"
        }
      ]
    },
    {
      "cell_type": "markdown",
      "metadata": {
        "id": "pUnUJP-b-Lj0"
      },
      "source": [
        "**Your turn!**\n",
        "\n",
        "Write a small program that takes user input and then prints different things depending on that input."
      ]
    },
    {
      "cell_type": "code",
      "metadata": {
        "id": "AOfjX4Ep-Ryi"
      },
      "source": [
        "# Your code here"
      ],
      "execution_count": null,
      "outputs": []
    },
    {
      "cell_type": "markdown",
      "metadata": {
        "id": "yQ2IiQqFm4qk"
      },
      "source": [
        "### Loops\n",
        "\n",
        "Python has two types of loops: `for` loops and `while` loops.\n",
        "\n",
        "`range` can take up to 3 parameters:\n",
        "\n",
        "`range(end)`\n",
        "\n",
        "`range(start, end)`\n",
        "\n",
        "`range(start, end, step)`"
      ]
    },
    {
      "cell_type": "code",
      "metadata": {
        "colab": {
          "base_uri": "https://localhost:8080/"
        },
        "id": "OH2VJKwSk_xI",
        "outputId": "7ff63347-26d5-4690-ef0d-566a826f83a5"
      },
      "source": [
        "for i in range(5, 100, 5):\n",
        "  print(i, end=' ')"
      ],
      "execution_count": 13,
      "outputs": [
        {
          "output_type": "stream",
          "text": [
            "5 10 15 20 25 30 35 40 45 50 55 60 65 70 75 80 85 90 95 "
          ],
          "name": "stdout"
        }
      ]
    },
    {
      "cell_type": "code",
      "metadata": {
        "colab": {
          "base_uri": "https://localhost:8080/"
        },
        "id": "iatlraS5pTnG",
        "outputId": "a3d421e9-1765-4b60-f33b-94e93fb75cbc"
      },
      "source": [
        "print('Think of a secret number between 1 and 100 (inclusive)!')\n",
        "\n",
        "guess = 50\n",
        "upper = 101\n",
        "lower = 0\n",
        "num_guesses = 1\n",
        "\n",
        "user_response = ' '\n",
        "\n",
        "while user_response.lower() != 'c':\n",
        "  user_response = input('Is your number higher or lower than {}?\\n Enter \"H\" for higher, \"L\" for lower, or \"C\" for correct: '.format(guess))\n",
        "\n",
        "  if user_response.lower() == 'h':\n",
        "    lower = guess\n",
        "    guess = (upper + lower) // 2 \n",
        "    num_guesses += 1\n",
        "  elif user_response.lower() == 'l':\n",
        "    upper = guess\n",
        "    guess = (upper + lower) // 2\n",
        "    num_guesses += 1\n",
        "  elif user_response.lower() != 'c':\n",
        "    print('{} is not a valid input.'.format(user_response))\n",
        "\n",
        "print('I guessed your number, {}, in {} guesses!'.format(guess, num_guesses))"
      ],
      "execution_count": 14,
      "outputs": [
        {
          "output_type": "stream",
          "text": [
            "Think of a secret number between 1 and 100 (inclusive)!\n",
            "Is your number higher or lower than 50?\n",
            " Enter \"H\" for higher, \"L\" for lower, or \"C\" for correct: h\n",
            "Is your number higher or lower than 75?\n",
            " Enter \"H\" for higher, \"L\" for lower, or \"C\" for correct: l\n",
            "Is your number higher or lower than 62?\n",
            " Enter \"H\" for higher, \"L\" for lower, or \"C\" for correct: h\n",
            "Is your number higher or lower than 68?\n",
            " Enter \"H\" for higher, \"L\" for lower, or \"C\" for correct: h\n",
            "Is your number higher or lower than 71?\n",
            " Enter \"H\" for higher, \"L\" for lower, or \"C\" for correct: l\n",
            "Is your number higher or lower than 69?\n",
            " Enter \"H\" for higher, \"L\" for lower, or \"C\" for correct: h\n",
            "Is your number higher or lower than 70?\n",
            " Enter \"H\" for higher, \"L\" for lower, or \"C\" for correct: c\n",
            "I guessed your number, 70, in 7 guesses!\n"
          ],
          "name": "stdout"
        }
      ]
    },
    {
      "cell_type": "markdown",
      "metadata": {
        "id": "F-fgYRQy-V_i"
      },
      "source": [
        "**Your Turn!**\n",
        "\n",
        "Create a for loop that counts from 1 to 100 by 3s, then create a while loop that does the same thing."
      ]
    },
    {
      "cell_type": "code",
      "metadata": {
        "id": "1aaHGfPT-fij"
      },
      "source": [
        "# Your code here!"
      ],
      "execution_count": null,
      "outputs": []
    },
    {
      "cell_type": "markdown",
      "metadata": {
        "id": "qAQiahGw8pzr"
      },
      "source": [
        "### Lists\n",
        "\n",
        "We can have collections of data called **lists**.\n",
        "\n",
        "Unlike *arrays*, lists in Python can contain different types of information.\n"
      ]
    },
    {
      "cell_type": "code",
      "metadata": {
        "colab": {
          "base_uri": "https://localhost:8080/"
        },
        "id": "xax7EbRA9Ioz",
        "outputId": "a62fb7c2-9ccd-4d51-a624-f4e2c08485a5"
      },
      "source": [
        "my_list = [1, 'cat', 3.14, True]\n",
        "\n",
        "for item in my_list:\n",
        "  print('{} is a {}'.format(item, type(item)))"
      ],
      "execution_count": 15,
      "outputs": [
        {
          "output_type": "stream",
          "text": [
            "1 is a <class 'int'>\n",
            "cat is a <class 'str'>\n",
            "3.14 is a <class 'float'>\n",
            "True is a <class 'bool'>\n"
          ],
          "name": "stdout"
        }
      ]
    },
    {
      "cell_type": "markdown",
      "metadata": {
        "id": "dVq8Hn1a9fZR"
      },
      "source": [
        "We can also find the *length* of a list using `len`:"
      ]
    },
    {
      "cell_type": "code",
      "metadata": {
        "colab": {
          "base_uri": "https://localhost:8080/"
        },
        "id": "11jXaTxy9noN",
        "outputId": "8eda3e48-1c94-4a84-ee2f-1710baea36ce"
      },
      "source": [
        "len(my_list)"
      ],
      "execution_count": 16,
      "outputs": [
        {
          "output_type": "execute_result",
          "data": {
            "text/plain": [
              "4"
            ]
          },
          "metadata": {
            "tags": []
          },
          "execution_count": 16
        }
      ]
    },
    {
      "cell_type": "markdown",
      "metadata": {
        "id": "zsoiuRNH9tFY"
      },
      "source": [
        "And if the list contains all comparable items, we can *sort* it:"
      ]
    },
    {
      "cell_type": "code",
      "metadata": {
        "colab": {
          "base_uri": "https://localhost:8080/"
        },
        "id": "wqtE2klp9xno",
        "outputId": "f2ff4ffd-fcdc-4c4e-cd79-74aac46bb0f6"
      },
      "source": [
        "animals = ['whale', 'lemur', 'dog', 'fish', 'cat']\n",
        "# animals.sort()\n",
        "sorted_animals = sorted(animals)\n",
        "print(animals)\n",
        "print(sorted_animals)"
      ],
      "execution_count": 19,
      "outputs": [
        {
          "output_type": "stream",
          "text": [
            "['whale', 'lemur', 'dog', 'fish', 'cat']\n",
            "['cat', 'dog', 'fish', 'lemur', 'whale']\n"
          ],
          "name": "stdout"
        }
      ]
    },
    {
      "cell_type": "code",
      "metadata": {
        "colab": {
          "base_uri": "https://localhost:8080/"
        },
        "id": "08umCL7EX-yP",
        "outputId": "3da68cc8-8849-4873-b9e1-37ad6628148c"
      },
      "source": [
        "times_table = []\n",
        "\n",
        "for i in range(12):\n",
        "  temp_row = []\n",
        "  for j in range(12):\n",
        "    temp_row.append((i + 1) * (j + 1))\n",
        "  times_table.append(temp_row)\n",
        "\n",
        "print(times_table)\n",
        "\n",
        "for i in range(12):\n",
        "  for j in range(12):\n",
        "    print(times_table[i][j], end=' ')\n",
        "  print()"
      ],
      "execution_count": 23,
      "outputs": [
        {
          "output_type": "stream",
          "text": [
            "[[1, 2, 3, 4, 5, 6, 7, 8, 9, 10, 11, 12], [2, 4, 6, 8, 10, 12, 14, 16, 18, 20, 22, 24], [3, 6, 9, 12, 15, 18, 21, 24, 27, 30, 33, 36], [4, 8, 12, 16, 20, 24, 28, 32, 36, 40, 44, 48], [5, 10, 15, 20, 25, 30, 35, 40, 45, 50, 55, 60], [6, 12, 18, 24, 30, 36, 42, 48, 54, 60, 66, 72], [7, 14, 21, 28, 35, 42, 49, 56, 63, 70, 77, 84], [8, 16, 24, 32, 40, 48, 56, 64, 72, 80, 88, 96], [9, 18, 27, 36, 45, 54, 63, 72, 81, 90, 99, 108], [10, 20, 30, 40, 50, 60, 70, 80, 90, 100, 110, 120], [11, 22, 33, 44, 55, 66, 77, 88, 99, 110, 121, 132], [12, 24, 36, 48, 60, 72, 84, 96, 108, 120, 132, 144]]\n",
            "1 2 3 4 5 6 7 8 9 10 11 12 \n",
            "2 4 6 8 10 12 14 16 18 20 22 24 \n",
            "3 6 9 12 15 18 21 24 27 30 33 36 \n",
            "4 8 12 16 20 24 28 32 36 40 44 48 \n",
            "5 10 15 20 25 30 35 40 45 50 55 60 \n",
            "6 12 18 24 30 36 42 48 54 60 66 72 \n",
            "7 14 21 28 35 42 49 56 63 70 77 84 \n",
            "8 16 24 32 40 48 56 64 72 80 88 96 \n",
            "9 18 27 36 45 54 63 72 81 90 99 108 \n",
            "10 20 30 40 50 60 70 80 90 100 110 120 \n",
            "11 22 33 44 55 66 77 88 99 110 121 132 \n",
            "12 24 36 48 60 72 84 96 108 120 132 144 \n"
          ],
          "name": "stdout"
        }
      ]
    },
    {
      "cell_type": "markdown",
      "metadata": {
        "id": "N6oG41tU-jRC"
      },
      "source": [
        "**Your Turn!**\n",
        "\n",
        "Create a list of your favorite books or movies, then (with a for loop) print out a sentence for each book or movie saying `<book/movie item> is one of my favorite books!`"
      ]
    },
    {
      "cell_type": "code",
      "metadata": {
        "id": "vFk8eaSd-105",
        "colab": {
          "base_uri": "https://localhost:8080/"
        },
        "outputId": "32f65043-a1ec-4222-f3b0-3f17c427c615"
      },
      "source": [
        "# Your code here!\n",
        "\n",
        "book = 'Calligraphy'\n",
        "\n",
        "print('I see a book titled \"{}\". It\\'s a good book!'.format(book))"
      ],
      "execution_count": 26,
      "outputs": [
        {
          "output_type": "stream",
          "text": [
            "I see a book titled \"Calligraphy\". It's a good book!\n"
          ],
          "name": "stdout"
        }
      ]
    },
    {
      "cell_type": "markdown",
      "metadata": {
        "id": "SLbpdz2ibMaJ"
      },
      "source": [
        "### Dictionaries\n",
        "\n",
        "Named key-value pairs."
      ]
    },
    {
      "cell_type": "code",
      "metadata": {
        "colab": {
          "base_uri": "https://localhost:8080/"
        },
        "id": "6wzFQujubKRt",
        "outputId": "7731f2b6-9749-4212-eb02-48859fb8a8c5"
      },
      "source": [
        "my_dictionary = {\n",
        "    'name': 'Georgia',\n",
        "    'number of dogs': 2,\n",
        "    'favorite food': 'falafel'\n",
        "}\n",
        "\n",
        "print(my_dictionary['name'])\n",
        "\n",
        "my_dictionary['height'] = 65\n",
        "\n",
        "print(my_dictionary['height'])\n",
        "\n",
        "for key in my_dictionary:\n",
        "  print(key)\n",
        "\n",
        "for key, value in my_dictionary.items():\n",
        "  print(key, value)"
      ],
      "execution_count": 32,
      "outputs": [
        {
          "output_type": "stream",
          "text": [
            "Georgia\n",
            "65\n",
            "name\n",
            "number of dogs\n",
            "favorite food\n",
            "height\n",
            "name Georgia\n",
            "number of dogs 2\n",
            "favorite food falafel\n",
            "height 65\n"
          ],
          "name": "stdout"
        }
      ]
    },
    {
      "cell_type": "markdown",
      "metadata": {
        "id": "ypX7ar4cTGh2"
      },
      "source": [
        "### Functions\n",
        "\n",
        "Sometimes we want to\n",
        "- organize code into reusable blocks\n",
        "- name blocks of code\n",
        "\n",
        "We can use **functions**!"
      ]
    },
    {
      "cell_type": "code",
      "metadata": {
        "id": "yzU3EO5swjNP"
      },
      "source": [
        "# The first line is the function signature\n",
        "def print_number_sequence(end_number, inclusive=False):\n",
        "  if inclusive:\n",
        "    end_number += 1\n",
        "  for i in range(end_number):\n",
        "    print(i, end=' ')\n",
        "  print()\n",
        "    "
      ],
      "execution_count": 33,
      "outputs": []
    },
    {
      "cell_type": "markdown",
      "metadata": {
        "id": "DJRHiyDpUDzM"
      },
      "source": [
        "Functions must be **called** in order to be used. Above we have defined a function, now lets use it!"
      ]
    },
    {
      "cell_type": "code",
      "metadata": {
        "colab": {
          "base_uri": "https://localhost:8080/"
        },
        "id": "TGcwhazFT9sC",
        "outputId": "62e20b10-3b70-4c59-d4ae-8046093f507f"
      },
      "source": [
        "print_number_sequence(10)\n",
        "print_number_sequence(10, inclusive=True)"
      ],
      "execution_count": 34,
      "outputs": [
        {
          "output_type": "stream",
          "text": [
            "0 1 2 3 4 5 6 7 8 9 \n",
            "0 1 2 3 4 5 6 7 8 9 10 \n"
          ],
          "name": "stdout"
        }
      ]
    },
    {
      "cell_type": "markdown",
      "metadata": {
        "id": "uC4i7zKVU_8f"
      },
      "source": [
        "In this function, `end_number` is a **parameter** or **argument**. `inclusive` is a special type of argument called a **keyword argument**."
      ]
    },
    {
      "cell_type": "markdown",
      "metadata": {
        "id": "50k00opb-4KS"
      },
      "source": [
        "**Your Turn!**\n",
        "\n",
        "Create a *function* that takes an integer as a parameter and then determines if it's prime or not. This will bring together a lot of what we reviewed today. \n",
        "\n",
        "Other concepts you'll need:\n",
        "\n",
        "modulo operator: `number % other_number` determines the remainder of `number` divided by `other_number`. If it's 0, `number` is divisible by `other_number`."
      ]
    },
    {
      "cell_type": "code",
      "metadata": {
        "id": "sREV4ck1URJA",
        "colab": {
          "base_uri": "https://localhost:8080/"
        },
        "outputId": "b7c57bd0-8977-4f0c-ff44-6a44c92cd44a"
      },
      "source": [
        "# Your code here\n",
        "from math import sqrt\n",
        "\n",
        "def is_prime(integer):\n",
        "  for i in range(2, int(sqrt(integer)) + 1):\n",
        "    if integer % i == 0:\n",
        "      return False\n",
        "  return True\n",
        "\n",
        "print(is_prime(10))\n",
        "print(is_prime(13))"
      ],
      "execution_count": 39,
      "outputs": [
        {
          "output_type": "stream",
          "text": [
            "False\n",
            "True\n"
          ],
          "name": "stdout"
        }
      ]
    },
    {
      "cell_type": "code",
      "metadata": {
        "id": "65NvtwLm_c6j"
      },
      "source": [
        ""
      ],
      "execution_count": null,
      "outputs": []
    }
  ]
}