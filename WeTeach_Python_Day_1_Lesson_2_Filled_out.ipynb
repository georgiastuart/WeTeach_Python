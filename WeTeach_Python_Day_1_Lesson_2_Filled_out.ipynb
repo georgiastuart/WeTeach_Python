{
  "nbformat": 4,
  "nbformat_minor": 0,
  "metadata": {
    "colab": {
      "name": "WeTeach_Python Day 1 Lesson 2 - Filled out",
      "provenance": [],
      "mount_file_id": "1tXTXW0iucmUhyfE9Ki_9I5zzJ16i3Ecw",
      "authorship_tag": "ABX9TyOBPVaamWka8ztTBPKgLeie",
      "include_colab_link": true
    },
    "kernelspec": {
      "name": "python3",
      "display_name": "Python 3"
    },
    "language_info": {
      "name": "python"
    }
  },
  "cells": [
    {
      "cell_type": "markdown",
      "metadata": {
        "id": "view-in-github",
        "colab_type": "text"
      },
      "source": [
        "<a href=\"https://colab.research.google.com/github/georgiastuart/WeTeach_Python/blob/main/WeTeach_Python_Day_1_Lesson_2_Filled_out.ipynb\" target=\"_parent\"><img src=\"https://colab.research.google.com/assets/colab-badge.svg\" alt=\"Open In Colab\"/></a>"
      ]
    },
    {
      "cell_type": "markdown",
      "metadata": {
        "id": "XyRH-McoXJOx"
      },
      "source": [
        "# WeTeach_Python: Data Science in Python Prerequisits\n",
        "\n",
        "This course is loosely based on [Python Data Science Handbook](https://jakevdp.github.io/PythonDataScienceHandbook) though we will not cover everything in it (and will add some stuff also!). \n",
        "\n",
        "## Dealing with Data: Pandas and Numpy\n",
        "\n",
        "We will use two large Python libraries: [Pandas](https://pandas.pydata.org/) and [NumPy](https://numpy.org/). To use them, we must **import** them:"
      ]
    },
    {
      "cell_type": "code",
      "metadata": {
        "id": "SS8guijRVj2q"
      },
      "source": [
        "import pandas as pd\n",
        "import numpy as np"
      ],
      "execution_count": null,
      "outputs": []
    },
    {
      "cell_type": "markdown",
      "metadata": {
        "id": "q99-z6IAe8l_"
      },
      "source": [
        "**Numpy** is a math library that provides access to efficient arrays.\n",
        "\n",
        "**Pandas** is a data analysis library."
      ]
    },
    {
      "cell_type": "markdown",
      "metadata": {
        "id": "cyblTXw7fGkm"
      },
      "source": [
        "## Numpy Arrays\n",
        "\n",
        "Numpy arrays are similar to **lists** in Python (see lesson 1). However, Numpy arrays are more similar to arrays in C or Java: they must contain all the same type of data. \n",
        "\n",
        "Numpy arrays are n-dimensional (they can have as many dimensions as you'd like). However, we'll mostly stick to 1 to 3 dimensional arrays. "
      ]
    },
    {
      "cell_type": "code",
      "metadata": {
        "colab": {
          "base_uri": "https://localhost:8080/"
        },
        "id": "qWf_eK2AX6WU",
        "outputId": "a73d9eee-09eb-4afa-b91e-8e7364a9c20d"
      },
      "source": [
        "# This creates a 1-dimensional array filled with zeros of type integer\n",
        "my_int_array = np.zeros(100, dtype='int')\n",
        "my_int_array\n",
        "\n",
        "my_int_array.size"
      ],
      "execution_count": null,
      "outputs": [
        {
          "output_type": "execute_result",
          "data": {
            "text/plain": [
              "100"
            ]
          },
          "metadata": {
            "tags": []
          },
          "execution_count": 35
        }
      ]
    },
    {
      "cell_type": "markdown",
      "metadata": {
        "id": "l0LtHORXgvKq"
      },
      "source": [
        "### Array indexing and slicing\n",
        "\n",
        "Numpy arrays can be **indexed** and **sliced**. The following code sets the first and last indices (index 0 and index -1) to 10 and then index 20 through 39 to 30:"
      ]
    },
    {
      "cell_type": "code",
      "metadata": {
        "colab": {
          "base_uri": "https://localhost:8080/"
        },
        "id": "xI_NX0b3f2HS",
        "outputId": "d62554e6-927d-42ee-da40-b8dec5bcfaa3"
      },
      "source": [
        "my_int_array[0] = 10\n",
        "my_int_array[-1] = 10\n",
        "\n",
        "my_int_array[20:40] = 30\n",
        "\n",
        "my_int_array"
      ],
      "execution_count": null,
      "outputs": [
        {
          "output_type": "execute_result",
          "data": {
            "text/plain": [
              "array([10,  0,  0,  0,  0,  0,  0,  0,  0,  0,  0,  0,  0,  0,  0,  0,  0,\n",
              "        0,  0,  0, 30, 30, 30, 30, 30, 30, 30, 30, 30, 30, 30, 30, 30, 30,\n",
              "       30, 30, 30, 30, 30, 30,  0,  0,  0,  0,  0,  0,  0,  0,  0,  0,  0,\n",
              "        0,  0,  0,  0,  0,  0,  0,  0,  0,  0,  0,  0,  0,  0,  0,  0,  0,\n",
              "        0,  0,  0,  0,  0,  0,  0,  0,  0,  0,  0,  0,  0,  0,  0,  0,  0,\n",
              "        0,  0,  0,  0,  0,  0,  0,  0,  0,  0,  0,  0,  0,  0, 10])"
            ]
          },
          "metadata": {
            "tags": []
          },
          "execution_count": 36
        }
      ]
    },
    {
      "cell_type": "markdown",
      "metadata": {
        "id": "5L_fbrbghZk5"
      },
      "source": [
        "**Your turn!**\n",
        "\n",
        "In the code box below, set index 65 through 89 to 8."
      ]
    },
    {
      "cell_type": "code",
      "metadata": {
        "id": "amfjNOgshXnZ",
        "colab": {
          "base_uri": "https://localhost:8080/"
        },
        "outputId": "fc6b91ec-a3a5-4aba-e18c-b56e490f7f1d"
      },
      "source": [
        "my_int_array[65:90] = 8\n",
        "\n",
        "my_int_array\n",
        "\n",
        "my_int_array[65:90:2] = 50\n",
        "\n",
        "my_int_array"
      ],
      "execution_count": null,
      "outputs": [
        {
          "output_type": "execute_result",
          "data": {
            "text/plain": [
              "array([10,  0,  0,  0,  0,  0,  0,  0,  0,  0,  0,  0,  0,  0,  0,  0,  0,\n",
              "        0,  0,  0, 30, 30, 30, 30, 30, 30, 30, 30, 30, 30, 30, 30, 30, 30,\n",
              "       30, 30, 30, 30, 30, 30,  0,  0,  0,  0,  0,  0,  0,  0,  0,  0,  0,\n",
              "        0,  0,  0,  0,  0,  0,  0,  0,  0,  0,  0,  0,  0,  0, 50,  8, 50,\n",
              "        8, 50,  8, 50,  8, 50,  8, 50,  8, 50,  8, 50,  8, 50,  8, 50,  8,\n",
              "       50,  8, 50,  8, 50,  0,  0,  0,  0,  0,  0,  0,  0,  0, 10])"
            ]
          },
          "metadata": {
            "tags": []
          },
          "execution_count": 38
        }
      ]
    },
    {
      "cell_type": "markdown",
      "metadata": {
        "id": "baTMwS5CixiG"
      },
      "source": [
        "### Two dimensional arrays\n",
        "\n",
        "Frequently we need to use two dimensional numpy arrays. They're similar to 1-D, but they have two indices to represent the row and then the column. Unlike 2-D lists (or general 2-D arrays in languages like C and Java), 2-D Numpy arrays will always have the same number of columns in each row.\n",
        "\n",
        "Here's an example:"
      ]
    },
    {
      "cell_type": "code",
      "metadata": {
        "colab": {
          "base_uri": "https://localhost:8080/"
        },
        "id": "bWPaU4b3jEUQ",
        "outputId": "f0327bdc-d77d-4ac4-d92f-b0d4157eae20"
      },
      "source": [
        "my_2d_array = np.zeros((10, 10), dtype='int')\n",
        "print(my_2d_array)\n",
        "print()\n",
        "\n",
        "# Sets row 1 column 1 to 10\n",
        "my_2d_array[1, 1] = 10\n",
        "print(my_2d_array)\n",
        "print()\n",
        "\n",
        "# Sets rows 2 through 6 and columns 3 through 5 to 20\n",
        "my_2d_array[2:7, 3:6] = 20\n",
        "print(my_2d_array)\n",
        "print()\n",
        "\n",
        "# Prints the entire row at index 3\n",
        "print(my_2d_array[3, :])\n",
        "\n",
        "# Everything after 4th row and 5th column\n",
        "print(my_2d_array[3:, 4:])"
      ],
      "execution_count": null,
      "outputs": [
        {
          "output_type": "stream",
          "text": [
            "[[0 0 0 0 0 0 0 0 0 0]\n",
            " [0 0 0 0 0 0 0 0 0 0]\n",
            " [0 0 0 0 0 0 0 0 0 0]\n",
            " [0 0 0 0 0 0 0 0 0 0]\n",
            " [0 0 0 0 0 0 0 0 0 0]\n",
            " [0 0 0 0 0 0 0 0 0 0]\n",
            " [0 0 0 0 0 0 0 0 0 0]\n",
            " [0 0 0 0 0 0 0 0 0 0]\n",
            " [0 0 0 0 0 0 0 0 0 0]\n",
            " [0 0 0 0 0 0 0 0 0 0]]\n",
            "\n",
            "[[ 0  0  0  0  0  0  0  0  0  0]\n",
            " [ 0 10  0  0  0  0  0  0  0  0]\n",
            " [ 0  0  0  0  0  0  0  0  0  0]\n",
            " [ 0  0  0  0  0  0  0  0  0  0]\n",
            " [ 0  0  0  0  0  0  0  0  0  0]\n",
            " [ 0  0  0  0  0  0  0  0  0  0]\n",
            " [ 0  0  0  0  0  0  0  0  0  0]\n",
            " [ 0  0  0  0  0  0  0  0  0  0]\n",
            " [ 0  0  0  0  0  0  0  0  0  0]\n",
            " [ 0  0  0  0  0  0  0  0  0  0]]\n",
            "\n",
            "[[ 0  0  0  0  0  0  0  0  0  0]\n",
            " [ 0 10  0  0  0  0  0  0  0  0]\n",
            " [ 0  0  0 20 20 20  0  0  0  0]\n",
            " [ 0  0  0 20 20 20  0  0  0  0]\n",
            " [ 0  0  0 20 20 20  0  0  0  0]\n",
            " [ 0  0  0 20 20 20  0  0  0  0]\n",
            " [ 0  0  0 20 20 20  0  0  0  0]\n",
            " [ 0  0  0  0  0  0  0  0  0  0]\n",
            " [ 0  0  0  0  0  0  0  0  0  0]\n",
            " [ 0  0  0  0  0  0  0  0  0  0]]\n",
            "\n",
            "[ 0  0  0 20 20 20  0  0  0  0]\n",
            "[[20 20  0  0  0  0]\n",
            " [20 20  0  0  0  0]\n",
            " [20 20  0  0  0  0]\n",
            " [20 20  0  0  0  0]\n",
            " [ 0  0  0  0  0  0]\n",
            " [ 0  0  0  0  0  0]\n",
            " [ 0  0  0  0  0  0]]\n"
          ],
          "name": "stdout"
        }
      ]
    },
    {
      "cell_type": "markdown",
      "metadata": {
        "id": "eSh50QuTlQbh"
      },
      "source": [
        "**Your turn!**\n",
        "\n",
        "Print out rows 5 through 8 and columns 6 through 9.\n"
      ]
    },
    {
      "cell_type": "code",
      "metadata": {
        "id": "0xzhOq1cjJga"
      },
      "source": [
        ""
      ],
      "execution_count": null,
      "outputs": []
    },
    {
      "cell_type": "markdown",
      "metadata": {
        "id": "KJjSs_qSmOIf"
      },
      "source": [
        "### Manipulating Numpy Arrays\n",
        "\n",
        "Numpy arrays (n dimensional) can be manipulated in bulk with math operations:"
      ]
    },
    {
      "cell_type": "code",
      "metadata": {
        "colab": {
          "base_uri": "https://localhost:8080/"
        },
        "id": "ygQO5lIumU78",
        "outputId": "fb90bebd-8090-41c2-e982-9e7f00636f6f"
      },
      "source": [
        "array1 = np.random.random((10, 10))\n",
        "array2 = np.random.random((10, 10))\n",
        "\n",
        "# print(array1, array2)\n",
        "\n",
        "array_sum = array1 + array2\n",
        "array_componentwise_product = array1 * array2\n",
        "array_matrix_product = array1 @ array2\n",
        "array_add_2 = array1 + 2\n",
        "array_times_2 = array1 * 2\n",
        "\n",
        "# print(np.array(array_add_2, dtype='int'))\n",
        "\n",
        "new_array = np.array(array1)\n",
        "new_array[array1 < 0.5] = 50\n",
        "\n",
        "print(new_array)\n",
        "print(array1)"
      ],
      "execution_count": null,
      "outputs": [
        {
          "output_type": "stream",
          "text": [
            "[[ 0.84803217 50.         50.          0.91150323  0.84062527 50.\n",
            "  50.         50.          0.96432541  0.96569649]\n",
            " [ 0.56149198 50.          0.61445171  0.53317545  0.80943213  0.93896985\n",
            "  50.          0.59751031  0.84696289 50.        ]\n",
            " [ 0.53464179 50.          0.91125793 50.         50.          0.92212483\n",
            "  50.         50.          0.79732604  0.53572307]\n",
            " [ 0.63054933 50.          0.50369102 50.          0.71755529 50.\n",
            "  50.          0.99367514 50.          0.5386112 ]\n",
            " [ 0.67922235  0.77898222 50.          0.6469775   0.68602557  0.80145247\n",
            "   0.92323454  0.76864307 50.          0.65370567]\n",
            " [50.         50.          0.72626082 50.         50.         50.\n",
            "  50.          0.65063549  0.89435589  0.65152988]\n",
            " [ 0.63784667  0.92666763  0.65723397  0.58265913 50.          0.64511984\n",
            "   0.79103036 50.         50.         50.        ]\n",
            " [ 0.97373706 50.         50.         50.          0.66274703 50.\n",
            "   0.55240988  0.93368004  0.99670195  0.58935839]\n",
            " [50.          0.7203257   0.85255492  0.50192412  0.86755163  0.68891962\n",
            "   0.9093621   0.89426678 50.          0.82354646]\n",
            " [50.         50.          0.90362991  0.80288752  0.80877722  0.99206999\n",
            "  50.          0.59131546  0.83910087 50.        ]]\n",
            "[[0.84803217 0.19251369 0.34017822 0.91150323 0.84062527 0.17242327\n",
            "  0.45944199 0.46083457 0.96432541 0.96569649]\n",
            " [0.56149198 0.44518715 0.61445171 0.53317545 0.80943213 0.93896985\n",
            "  0.19151743 0.59751031 0.84696289 0.29830561]\n",
            " [0.53464179 0.32392229 0.91125793 0.34510294 0.42037603 0.92212483\n",
            "  0.40251276 0.31895201 0.79732604 0.53572307]\n",
            " [0.63054933 0.1311554  0.50369102 0.45326495 0.71755529 0.04126432\n",
            "  0.43719363 0.99367514 0.09875109 0.5386112 ]\n",
            " [0.67922235 0.77898222 0.31012525 0.6469775  0.68602557 0.80145247\n",
            "  0.92323454 0.76864307 0.22083783 0.65370567]\n",
            " [0.12843706 0.01729618 0.72626082 0.18660217 0.24028538 0.45592634\n",
            "  0.06276232 0.65063549 0.89435589 0.65152988]\n",
            " [0.63784667 0.92666763 0.65723397 0.58265913 0.1404593  0.64511984\n",
            "  0.79103036 0.40099903 0.43598233 0.49899089]\n",
            " [0.97373706 0.398855   0.16193957 0.065827   0.66274703 0.36468279\n",
            "  0.55240988 0.93368004 0.99670195 0.58935839]\n",
            " [0.13792032 0.7203257  0.85255492 0.50192412 0.86755163 0.68891962\n",
            "  0.9093621  0.89426678 0.04748276 0.82354646]\n",
            " [0.49816561 0.20001149 0.90362991 0.80288752 0.80877722 0.99206999\n",
            "  0.0410759  0.59131546 0.83910087 0.39597614]]\n"
          ],
          "name": "stdout"
        }
      ]
    },
    {
      "cell_type": "markdown",
      "metadata": {
        "id": "7kqWibJ3yOom"
      },
      "source": [
        "### Loading Numpy Arrays from File\n",
        "\n",
        "Numpy arrays can be stored in a variety of file formats, including:\n",
        "- numpy format (.npy)\n",
        "- comma separated values (csv)\n",
        "- hierarchichal data format (HDF5)\n",
        "\n",
        "Lets first load the HDF5 interface module, `h5py`:"
      ]
    },
    {
      "cell_type": "code",
      "metadata": {
        "id": "_FCR0lPOynVm"
      },
      "source": [
        "import h5py"
      ],
      "execution_count": null,
      "outputs": []
    },
    {
      "cell_type": "markdown",
      "metadata": {
        "id": "51UfQcy9yzQ6"
      },
      "source": [
        "Now, lets save a numpy array to each type of file format:"
      ]
    },
    {
      "cell_type": "code",
      "metadata": {
        "colab": {
          "base_uri": "https://localhost:8080/"
        },
        "id": "spG3Mk44yoM5",
        "outputId": "163f7e06-26c2-4f36-ca76-fb7d4e9dc992"
      },
      "source": [
        "my_array = np.zeros((100, 100), dtype='int')\n",
        "\n",
        "for i in range(100):\n",
        "  for j in range(100):\n",
        "    my_array[i, j] = i * j\n",
        "\n",
        "my_array"
      ],
      "execution_count": null,
      "outputs": [
        {
          "output_type": "execute_result",
          "data": {
            "text/plain": [
              "array([[   0,    0,    0, ...,    0,    0,    0],\n",
              "       [   0,    1,    2, ...,   97,   98,   99],\n",
              "       [   0,    2,    4, ...,  194,  196,  198],\n",
              "       ...,\n",
              "       [   0,   97,  194, ..., 9409, 9506, 9603],\n",
              "       [   0,   98,  196, ..., 9506, 9604, 9702],\n",
              "       [   0,   99,  198, ..., 9603, 9702, 9801]])"
            ]
          },
          "metadata": {
            "tags": []
          },
          "execution_count": 57
        }
      ]
    },
    {
      "cell_type": "code",
      "metadata": {
        "id": "rgs_P8Mk2mjk"
      },
      "source": [
        "drive_path = '/content/drive/MyDrive/Colab Notebooks/'"
      ],
      "execution_count": null,
      "outputs": []
    },
    {
      "cell_type": "code",
      "metadata": {
        "id": "FwjJ3GuLzFgO"
      },
      "source": [
        "# Saving in numpy format (.npy)\n",
        "np.save(drive_path + 'numpy_format_save.npy', my_array)"
      ],
      "execution_count": null,
      "outputs": []
    },
    {
      "cell_type": "code",
      "metadata": {
        "id": "j94f1BV4zSuY"
      },
      "source": [
        "# Saving in csv format\n",
        "np.savetxt(drive_path + 'csv_format_save.csv', my_array, delimiter=',')"
      ],
      "execution_count": null,
      "outputs": []
    },
    {
      "cell_type": "code",
      "metadata": {
        "id": "GHLK0N-7zmP8"
      },
      "source": [
        "# Saving in hdf5 format\n",
        "# The \"with\" is called using a context manager in Python\n",
        "with h5py.File(drive_path + 'hdf5_save_file.hdf5', 'w') as fp:\n",
        "  dset = fp.create_dataset('my_array', (100, 100), dtype='int')\n",
        "  dset[:, :] = my_array[:, :]\n",
        "  dset[3, :] = 0"
      ],
      "execution_count": null,
      "outputs": []
    },
    {
      "cell_type": "markdown",
      "metadata": {
        "id": "-84ha-4tnRmk"
      },
      "source": [
        "**An aside: hdf5**\n",
        "\n",
        "HDF5 is commonly used in scientific computing because you can store multiple named matrices / arrays together. For example, this file will contain two matrices:"
      ]
    },
    {
      "cell_type": "code",
      "metadata": {
        "id": "0OHi6ekJnbYC"
      },
      "source": [
        "with h5py.File(drive_path + 'hdf5_save_file_2arrays.hdf5', 'w') as fp:\n",
        "  dset = fp.create_dataset('my_array', (100, 100), dtype='int')\n",
        "  dset[:, :] = my_array[:, :]\n",
        "  dset = fp.create_dataset('random_array', (100, 100), dtype='float64')\n",
        "  dset[:, :] = np.random.random((100, 100))"
      ],
      "execution_count": null,
      "outputs": []
    },
    {
      "cell_type": "markdown",
      "metadata": {
        "id": "qJlyWN_62TPM"
      },
      "source": [
        "### Reading Numpy Arrays in from file\n",
        "\n",
        "Now lets read back in the arrays we just saved:"
      ]
    },
    {
      "cell_type": "code",
      "metadata": {
        "colab": {
          "base_uri": "https://localhost:8080/"
        },
        "id": "NSCAoCCP0C-U",
        "outputId": "995cf853-3a93-459a-c91f-417b79a1945b"
      },
      "source": [
        "# Reads from .npy format\n",
        "from_npy = np.load(drive_path + 'numpy_format_save.npy')\n",
        "from_npy\n",
        "\n",
        "print((from_npy == my_array).all())"
      ],
      "execution_count": null,
      "outputs": [
        {
          "output_type": "stream",
          "text": [
            "True\n"
          ],
          "name": "stdout"
        }
      ]
    },
    {
      "cell_type": "code",
      "metadata": {
        "colab": {
          "base_uri": "https://localhost:8080/"
        },
        "id": "lz5bhZEN2gL_",
        "outputId": "362b1959-a6f0-49fc-d2f8-ef502f069a75"
      },
      "source": [
        "# Reads from .csv format\n",
        "from_csv = np.loadtxt(drive_path + 'csv_format_save.csv', delimiter=',')\n",
        "from_csv = np.array(from_csv, dtype='int')\n",
        "from_csv"
      ],
      "execution_count": null,
      "outputs": [
        {
          "output_type": "execute_result",
          "data": {
            "text/plain": [
              "array([[   0,    0,    0, ...,    0,    0,    0],\n",
              "       [   0,    1,    2, ...,   97,   98,   99],\n",
              "       [   0,    2,    4, ...,  194,  196,  198],\n",
              "       ...,\n",
              "       [   0,   97,  194, ..., 9409, 9506, 9603],\n",
              "       [   0,   98,  196, ..., 9506, 9604, 9702],\n",
              "       [   0,   99,  198, ..., 9603, 9702, 9801]])"
            ]
          },
          "metadata": {
            "tags": []
          },
          "execution_count": 73
        }
      ]
    },
    {
      "cell_type": "code",
      "metadata": {
        "colab": {
          "base_uri": "https://localhost:8080/"
        },
        "id": "vu03f3g72p-C",
        "outputId": "7706d032-00e7-447b-937f-f09972e9591f"
      },
      "source": [
        "# Reads from hdf5 format\n",
        "with h5py.File(drive_path + 'hdf5_save_file_2arrays.hdf5', 'r') as fp:\n",
        "  from_hdf5 = fp['my_array'][:, :]\n",
        "  print(fp.keys())\n",
        "\n",
        "from_hdf5"
      ],
      "execution_count": null,
      "outputs": [
        {
          "output_type": "stream",
          "text": [
            "<KeysViewHDF5 ['my_array', 'random_array']>\n"
          ],
          "name": "stdout"
        },
        {
          "output_type": "execute_result",
          "data": {
            "text/plain": [
              "array([[   0,    0,    0, ...,    0,    0,    0],\n",
              "       [   0,    1,    2, ...,   97,   98,   99],\n",
              "       [   0,    2,    4, ...,  194,  196,  198],\n",
              "       ...,\n",
              "       [   0,   97,  194, ..., 9409, 9506, 9603],\n",
              "       [   0,   98,  196, ..., 9506, 9604, 9702],\n",
              "       [   0,   99,  198, ..., 9603, 9702, 9801]])"
            ]
          },
          "metadata": {
            "tags": []
          },
          "execution_count": 76
        }
      ]
    },
    {
      "cell_type": "markdown",
      "metadata": {
        "id": "JJN4_Ixo8AWp"
      },
      "source": [
        "**Your Turn!**\n",
        "\n",
        "Create a 1000 x 1000 x 100 array of integers and fill it with whatever you'd like. Then, save it and load it back in with each of the two 3D filetypes above (npy and hdf5)."
      ]
    },
    {
      "cell_type": "code",
      "metadata": {
        "id": "37CX4kI68AGH"
      },
      "source": [
        "my_3D_array = np.random.random((1000, 1000, 100))\n",
        "\n",
        "np.save(drive_path + \"3D_array.npy\", my_3D_array)"
      ],
      "execution_count": null,
      "outputs": []
    },
    {
      "cell_type": "code",
      "metadata": {
        "colab": {
          "base_uri": "https://localhost:8080/"
        },
        "id": "Xh2i-6aDAML1",
        "outputId": "038417b7-4871-4e9b-f82c-837d87cbf8af"
      },
      "source": [
        "read_back_in_3D_array = np.load(drive_path + \"3D_array.npy\")\n",
        "\n",
        "print(read_back_in_3D_array.shape)"
      ],
      "execution_count": null,
      "outputs": [
        {
          "output_type": "stream",
          "text": [
            "(1000, 1000, 100)\n"
          ],
          "name": "stdout"
        }
      ]
    },
    {
      "cell_type": "code",
      "metadata": {
        "id": "O3SzEiZMAqUz"
      },
      "source": [
        "with h5py.File(drive_path + 'hdf5_save_file.hdf5', 'a') as fp:\n",
        "  # dset = fp.create_dataset('large_array', my_3D_array.shape)\n",
        "  dset = fp['large_array']\n",
        "  dset[:, :, :] = my_3D_array[:, :, :]\n",
        "  dset[:, :, 0] = 0.0"
      ],
      "execution_count": null,
      "outputs": []
    },
    {
      "cell_type": "code",
      "metadata": {
        "colab": {
          "base_uri": "https://localhost:8080/"
        },
        "id": "PmOGz86CCJ73",
        "outputId": "5f801c56-a3bd-4f2d-8eb3-5a4727267915"
      },
      "source": [
        "with h5py.File(drive_path + 'hdf5_save_file.hdf5', 'r') as fp:\n",
        "  print(fp.keys())\n",
        "  first_matrix = fp['large_array'][:, :, 1]\n",
        "\n",
        "print(first_matrix)"
      ],
      "execution_count": null,
      "outputs": [
        {
          "output_type": "stream",
          "text": [
            "<KeysViewHDF5 ['large_array', 'my_array']>\n",
            "[[0.8422926  0.28939086 0.43755364 ... 0.6565679  0.36288857 0.7750237 ]\n",
            " [0.524868   0.47148004 0.20626897 ... 0.7970056  0.8949179  0.31797847]\n",
            " [0.35428166 0.9890741  0.62781173 ... 0.30251363 0.41623938 0.6981619 ]\n",
            " ...\n",
            " [0.26898065 0.627039   0.82230455 ... 0.9593426  0.13117346 0.9935259 ]\n",
            " [0.36076927 0.07364127 0.83666205 ... 0.19566277 0.53470397 0.9454175 ]\n",
            " [0.11690678 0.20341316 0.12732378 ... 0.6590659  0.9665019  0.60548717]]\n"
          ],
          "name": "stdout"
        }
      ]
    },
    {
      "cell_type": "markdown",
      "metadata": {
        "id": "IjWP8C964dv6"
      },
      "source": [
        "## Pandas Data Frames\n",
        "\n",
        "Numpy arrays are good for data that is all one type. What if you have a collection of data (like a spreadsheet) that has multiple types of information?\n",
        "\n",
        "We can use a Pandas data frame."
      ]
    },
    {
      "cell_type": "code",
      "metadata": {
        "colab": {
          "base_uri": "https://localhost:8080/",
          "height": 527
        },
        "id": "7SvF5j083Myd",
        "outputId": "d0247ddf-44d9-4a76-b4f5-b6b35a02b74a"
      },
      "source": [
        "cas_data = pd.read_csv('https://raw.githubusercontent.com/georgiastuart/WeTeach_Python/main/cas_data.csv', header=0, encoding = \"ISO-8859-1\", engine='python')\n",
        "cas_data"
      ],
      "execution_count": null,
      "outputs": [
        {
          "output_type": "execute_result",
          "data": {
            "text/html": [
              "<div>\n",
              "<style scoped>\n",
              "    .dataframe tbody tr th:only-of-type {\n",
              "        vertical-align: middle;\n",
              "    }\n",
              "\n",
              "    .dataframe tbody tr th {\n",
              "        vertical-align: top;\n",
              "    }\n",
              "\n",
              "    .dataframe thead th {\n",
              "        text-align: right;\n",
              "    }\n",
              "</style>\n",
              "<table border=\"1\" class=\"dataframe\">\n",
              "  <thead>\n",
              "    <tr style=\"text-align: right;\">\n",
              "      <th></th>\n",
              "      <th>Country</th>\n",
              "      <th>Region</th>\n",
              "      <th>Gender</th>\n",
              "      <th>Ageyears</th>\n",
              "      <th>Handed</th>\n",
              "      <th>Height</th>\n",
              "      <th>Foot_Length</th>\n",
              "      <th>Arm_Span</th>\n",
              "      <th>Languages_spoken</th>\n",
              "      <th>Travel_to_School</th>\n",
              "      <th>Travel_time_to_School</th>\n",
              "      <th>Reaction_time</th>\n",
              "      <th>Score_in_memory_game</th>\n",
              "      <th>Favourite_physical_activity</th>\n",
              "      <th>Importance_reducing_pollution</th>\n",
              "      <th>Importance_recycling_rubbish</th>\n",
              "      <th>Importance_conserving_water</th>\n",
              "      <th>Importance_saving_enery</th>\n",
              "      <th>Importance_owning_computer</th>\n",
              "      <th>Importance_Internet_access</th>\n",
              "      <th>Unnamed: 20</th>\n",
              "    </tr>\n",
              "  </thead>\n",
              "  <tbody>\n",
              "    <tr>\n",
              "      <th>0</th>\n",
              "      <td>USA</td>\n",
              "      <td>DC</td>\n",
              "      <td>M</td>\n",
              "      <td>11</td>\n",
              "      <td>R</td>\n",
              "      <td>139</td>\n",
              "      <td>24</td>\n",
              "      <td>149</td>\n",
              "      <td>1</td>\n",
              "      <td>Rail</td>\n",
              "      <td>21</td>\n",
              "      <td>0.316</td>\n",
              "      <td>7</td>\n",
              "      <td>Gymnastics</td>\n",
              "      <td>0</td>\n",
              "      <td>1000.0</td>\n",
              "      <td>1000</td>\n",
              "      <td>NaN</td>\n",
              "      <td>460.0</td>\n",
              "      <td>460.0</td>\n",
              "      <td>NaN</td>\n",
              "    </tr>\n",
              "    <tr>\n",
              "      <th>1</th>\n",
              "      <td>OZ</td>\n",
              "      <td>New South Wales</td>\n",
              "      <td>M</td>\n",
              "      <td>12</td>\n",
              "      <td>R</td>\n",
              "      <td>168</td>\n",
              "      <td>26</td>\n",
              "      <td>154</td>\n",
              "      <td>1</td>\n",
              "      <td>Bus</td>\n",
              "      <td>20</td>\n",
              "      <td>0.420</td>\n",
              "      <td>35</td>\n",
              "      <td>Other activities/sports</td>\n",
              "      <td>675</td>\n",
              "      <td>1000.0</td>\n",
              "      <td>450</td>\n",
              "      <td>450.0</td>\n",
              "      <td>178.0</td>\n",
              "      <td>184.0</td>\n",
              "      <td>NaN</td>\n",
              "    </tr>\n",
              "    <tr>\n",
              "      <th>2</th>\n",
              "      <td>NZ</td>\n",
              "      <td>Waikato</td>\n",
              "      <td>M</td>\n",
              "      <td>17</td>\n",
              "      <td>R</td>\n",
              "      <td>188</td>\n",
              "      <td>27</td>\n",
              "      <td>180</td>\n",
              "      <td>1</td>\n",
              "      <td>Bus</td>\n",
              "      <td>25</td>\n",
              "      <td>0.442</td>\n",
              "      <td>0</td>\n",
              "      <td>Football/Soccer</td>\n",
              "      <td>250</td>\n",
              "      <td>NaN</td>\n",
              "      <td>500</td>\n",
              "      <td>NaN</td>\n",
              "      <td>NaN</td>\n",
              "      <td>NaN</td>\n",
              "      <td>NaN</td>\n",
              "    </tr>\n",
              "    <tr>\n",
              "      <th>3</th>\n",
              "      <td>NZ</td>\n",
              "      <td>Auckland</td>\n",
              "      <td>F</td>\n",
              "      <td>15</td>\n",
              "      <td>L</td>\n",
              "      <td>155</td>\n",
              "      <td>22</td>\n",
              "      <td>166</td>\n",
              "      <td>1</td>\n",
              "      <td>Car</td>\n",
              "      <td>15</td>\n",
              "      <td>0.407</td>\n",
              "      <td>0</td>\n",
              "      <td>Football/Soccer</td>\n",
              "      <td>750</td>\n",
              "      <td>NaN</td>\n",
              "      <td>750</td>\n",
              "      <td>NaN</td>\n",
              "      <td>NaN</td>\n",
              "      <td>NaN</td>\n",
              "      <td>NaN</td>\n",
              "    </tr>\n",
              "    <tr>\n",
              "      <th>4</th>\n",
              "      <td>NZ</td>\n",
              "      <td>Auckland</td>\n",
              "      <td>F</td>\n",
              "      <td>14</td>\n",
              "      <td>R</td>\n",
              "      <td>165</td>\n",
              "      <td>24</td>\n",
              "      <td>165</td>\n",
              "      <td>1</td>\n",
              "      <td>Car</td>\n",
              "      <td>15</td>\n",
              "      <td>0.375</td>\n",
              "      <td>0</td>\n",
              "      <td>Basketball</td>\n",
              "      <td>750</td>\n",
              "      <td>NaN</td>\n",
              "      <td>750</td>\n",
              "      <td>NaN</td>\n",
              "      <td>NaN</td>\n",
              "      <td>NaN</td>\n",
              "      <td>NaN</td>\n",
              "    </tr>\n",
              "    <tr>\n",
              "      <th>...</th>\n",
              "      <td>...</td>\n",
              "      <td>...</td>\n",
              "      <td>...</td>\n",
              "      <td>...</td>\n",
              "      <td>...</td>\n",
              "      <td>...</td>\n",
              "      <td>...</td>\n",
              "      <td>...</td>\n",
              "      <td>...</td>\n",
              "      <td>...</td>\n",
              "      <td>...</td>\n",
              "      <td>...</td>\n",
              "      <td>...</td>\n",
              "      <td>...</td>\n",
              "      <td>...</td>\n",
              "      <td>...</td>\n",
              "      <td>...</td>\n",
              "      <td>...</td>\n",
              "      <td>...</td>\n",
              "      <td>...</td>\n",
              "      <td>...</td>\n",
              "    </tr>\n",
              "    <tr>\n",
              "      <th>495</th>\n",
              "      <td>CA</td>\n",
              "      <td>Quebec</td>\n",
              "      <td>M</td>\n",
              "      <td>12</td>\n",
              "      <td>L</td>\n",
              "      <td>150</td>\n",
              "      <td>22</td>\n",
              "      <td>146</td>\n",
              "      <td>2</td>\n",
              "      <td>Car</td>\n",
              "      <td>2</td>\n",
              "      <td>1.172</td>\n",
              "      <td>84</td>\n",
              "      <td>Hockey (Ice)</td>\n",
              "      <td>1000</td>\n",
              "      <td>1000.0</td>\n",
              "      <td>1000</td>\n",
              "      <td>888.0</td>\n",
              "      <td>144.0</td>\n",
              "      <td>107.0</td>\n",
              "      <td>NaN</td>\n",
              "    </tr>\n",
              "    <tr>\n",
              "      <th>496</th>\n",
              "      <td>NZ</td>\n",
              "      <td>Otago</td>\n",
              "      <td>M</td>\n",
              "      <td>10</td>\n",
              "      <td>R</td>\n",
              "      <td>144</td>\n",
              "      <td>23</td>\n",
              "      <td>150</td>\n",
              "      <td>1</td>\n",
              "      <td>Bus</td>\n",
              "      <td>25</td>\n",
              "      <td>0.594</td>\n",
              "      <td>0</td>\n",
              "      <td>Football/Soccer</td>\n",
              "      <td>500</td>\n",
              "      <td>NaN</td>\n",
              "      <td>750</td>\n",
              "      <td>NaN</td>\n",
              "      <td>NaN</td>\n",
              "      <td>NaN</td>\n",
              "      <td>NaN</td>\n",
              "    </tr>\n",
              "    <tr>\n",
              "      <th>497</th>\n",
              "      <td>UK</td>\n",
              "      <td>South West</td>\n",
              "      <td>F</td>\n",
              "      <td>14</td>\n",
              "      <td>R</td>\n",
              "      <td>173</td>\n",
              "      <td>21</td>\n",
              "      <td>173</td>\n",
              "      <td>1</td>\n",
              "      <td>Bus</td>\n",
              "      <td>45</td>\n",
              "      <td>0.360</td>\n",
              "      <td>29</td>\n",
              "      <td>Athletics</td>\n",
              "      <td>0</td>\n",
              "      <td>0.0</td>\n",
              "      <td>0</td>\n",
              "      <td>0.0</td>\n",
              "      <td>0.0</td>\n",
              "      <td>0.0</td>\n",
              "      <td>NaN</td>\n",
              "    </tr>\n",
              "    <tr>\n",
              "      <th>498</th>\n",
              "      <td>OZ</td>\n",
              "      <td>Western OZ</td>\n",
              "      <td>F</td>\n",
              "      <td>9</td>\n",
              "      <td>R</td>\n",
              "      <td>139</td>\n",
              "      <td>22</td>\n",
              "      <td>145</td>\n",
              "      <td>2</td>\n",
              "      <td>Walk</td>\n",
              "      <td>10</td>\n",
              "      <td>0.590</td>\n",
              "      <td>68</td>\n",
              "      <td>Basketball</td>\n",
              "      <td>1000</td>\n",
              "      <td>1000.0</td>\n",
              "      <td>1000</td>\n",
              "      <td>444.0</td>\n",
              "      <td>1.0</td>\n",
              "      <td>NaN</td>\n",
              "      <td>NaN</td>\n",
              "    </tr>\n",
              "    <tr>\n",
              "      <th>499</th>\n",
              "      <td>CA</td>\n",
              "      <td>Ontario</td>\n",
              "      <td>M</td>\n",
              "      <td>14</td>\n",
              "      <td>L</td>\n",
              "      <td>160</td>\n",
              "      <td>27</td>\n",
              "      <td>161</td>\n",
              "      <td>1</td>\n",
              "      <td>Walk</td>\n",
              "      <td>15</td>\n",
              "      <td>0.360</td>\n",
              "      <td>50</td>\n",
              "      <td>Hockey (Ice)</td>\n",
              "      <td>294</td>\n",
              "      <td>283.0</td>\n",
              "      <td>241</td>\n",
              "      <td>102.0</td>\n",
              "      <td>476.0</td>\n",
              "      <td>439.0</td>\n",
              "      <td>NaN</td>\n",
              "    </tr>\n",
              "  </tbody>\n",
              "</table>\n",
              "<p>500 rows × 21 columns</p>\n",
              "</div>"
            ],
            "text/plain": [
              "    Country           Region  ... Importance_Internet_access  Unnamed: 20\n",
              "0       USA               DC  ...                      460.0          NaN\n",
              "1        OZ  New South Wales  ...                      184.0          NaN\n",
              "2        NZ          Waikato  ...                        NaN          NaN\n",
              "3        NZ         Auckland  ...                        NaN          NaN\n",
              "4        NZ         Auckland  ...                        NaN          NaN\n",
              "..      ...              ...  ...                        ...          ...\n",
              "495      CA           Quebec  ...                      107.0          NaN\n",
              "496      NZ            Otago  ...                        NaN          NaN\n",
              "497      UK       South West  ...                        0.0          NaN\n",
              "498      OZ       Western OZ  ...                        NaN          NaN\n",
              "499      CA          Ontario  ...                      439.0          NaN\n",
              "\n",
              "[500 rows x 21 columns]"
            ]
          },
          "metadata": {
            "tags": []
          },
          "execution_count": 93
        }
      ]
    },
    {
      "cell_type": "markdown",
      "metadata": {
        "id": "GgyQSM0g7cMe"
      },
      "source": [
        "We can pull out specific columns from the data frame:"
      ]
    },
    {
      "cell_type": "code",
      "metadata": {
        "id": "l5yWkLSX6MTa",
        "colab": {
          "base_uri": "https://localhost:8080/"
        },
        "outputId": "d3eac379-d25a-4fba-be01-4cfc808e9448"
      },
      "source": [
        "cas_data['Height']"
      ],
      "execution_count": null,
      "outputs": [
        {
          "output_type": "execute_result",
          "data": {
            "text/plain": [
              "0      139\n",
              "1      168\n",
              "2      188\n",
              "3      155\n",
              "4      165\n",
              "      ... \n",
              "495    150\n",
              "496    144\n",
              "497    173\n",
              "498    139\n",
              "499    160\n",
              "Name: Height, Length: 500, dtype: int64"
            ]
          },
          "metadata": {
            "tags": []
          },
          "execution_count": 97
        }
      ]
    },
    {
      "cell_type": "markdown",
      "metadata": {
        "id": "gwsc3LfX8EDm"
      },
      "source": [
        "We can also perform statistics on the data frame:"
      ]
    },
    {
      "cell_type": "code",
      "metadata": {
        "colab": {
          "base_uri": "https://localhost:8080/"
        },
        "id": "SrMhf-GC7ibu",
        "outputId": "1ea2bc57-4f16-49c5-81c8-73140bb5f6de"
      },
      "source": [
        "cas_data.mean(numeric_only=True)"
      ],
      "execution_count": null,
      "outputs": [
        {
          "output_type": "execute_result",
          "data": {
            "text/plain": [
              "Ageyears                          13.392000\n",
              "Height                           160.378000\n",
              "Foot_Length                       23.842000\n",
              "Arm_Span                         157.404000\n",
              "Languages_spoken                   1.538000\n",
              "Travel_time_to_School             17.078000\n",
              "Reaction_time                      0.420589\n",
              "Score_in_memory_game              38.738000\n",
              "Importance_reducing_pollution    657.486000\n",
              "Importance_recycling_rubbish     631.791284\n",
              "Importance_conserving_water      644.700000\n",
              "Importance_saving_enery          650.827338\n",
              "Importance_owning_computer       586.223529\n",
              "Importance_Internet_access       640.667464\n",
              "Unnamed: 20                             NaN\n",
              "dtype: float64"
            ]
          },
          "metadata": {
            "tags": []
          },
          "execution_count": 16
        }
      ]
    },
    {
      "cell_type": "code",
      "metadata": {
        "colab": {
          "base_uri": "https://localhost:8080/"
        },
        "id": "HiistNRz8Io3",
        "outputId": "928f1ef2-e6d8-438e-c182-2329ca9b2fa6"
      },
      "source": [
        "cas_data.median(numeric_only=True)"
      ],
      "execution_count": null,
      "outputs": [
        {
          "output_type": "execute_result",
          "data": {
            "text/plain": [
              "Ageyears                          13.00\n",
              "Height                           160.00\n",
              "Foot_Length                       24.00\n",
              "Arm_Span                         158.00\n",
              "Languages_spoken                   1.00\n",
              "Travel_time_to_School             15.00\n",
              "Reaction_time                      0.39\n",
              "Score_in_memory_game              40.00\n",
              "Importance_reducing_pollution    703.50\n",
              "Importance_recycling_rubbish     626.00\n",
              "Importance_conserving_water      669.50\n",
              "Importance_saving_enery          693.00\n",
              "Importance_owning_computer       604.00\n",
              "Importance_Internet_access       706.00\n",
              "Unnamed: 20                         NaN\n",
              "dtype: float64"
            ]
          },
          "metadata": {
            "tags": []
          },
          "execution_count": 17
        }
      ]
    },
    {
      "cell_type": "markdown",
      "metadata": {
        "id": "1kwC5TNyoCTk"
      },
      "source": [
        "Or we can perform stats on a specific column:"
      ]
    },
    {
      "cell_type": "code",
      "metadata": {
        "colab": {
          "base_uri": "https://localhost:8080/"
        },
        "id": "QFBUE0l8oBzM",
        "outputId": "75cb54b0-4844-4e7c-de75-ba4af4a6a8c7"
      },
      "source": [
        "cas_data['Height'].mean()"
      ],
      "execution_count": null,
      "outputs": [
        {
          "output_type": "execute_result",
          "data": {
            "text/plain": [
              "160.378"
            ]
          },
          "metadata": {
            "tags": []
          },
          "execution_count": 26
        }
      ]
    },
    {
      "cell_type": "code",
      "metadata": {
        "id": "cyuMArz48Moc"
      },
      "source": [
        ""
      ],
      "execution_count": null,
      "outputs": []
    }
  ]
}