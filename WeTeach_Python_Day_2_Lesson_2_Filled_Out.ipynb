{
  "nbformat": 4,
  "nbformat_minor": 0,
  "metadata": {
    "colab": {
      "name": "WeTeach_Python Day 2 Lesson 2 - Filled Out",
      "provenance": [],
      "authorship_tag": "ABX9TyMMHev6yS1S/EUmBbLIvTnC",
      "include_colab_link": true
    },
    "kernelspec": {
      "name": "python3",
      "display_name": "Python 3"
    },
    "language_info": {
      "name": "python"
    }
  },
  "cells": [
    {
      "cell_type": "markdown",
      "metadata": {
        "id": "view-in-github",
        "colab_type": "text"
      },
      "source": [
        "<a href=\"https://colab.research.google.com/github/georgiastuart/WeTeach_Python/blob/main/WeTeach_Python_Day_2_Lesson_2_Filled_Out.ipynb\" target=\"_parent\"><img src=\"https://colab.research.google.com/assets/colab-badge.svg\" alt=\"Open In Colab\"/></a>"
      ]
    },
    {
      "cell_type": "markdown",
      "metadata": {
        "id": "JGaCT1Tcuz4p"
      },
      "source": [
        "# WeTeach_Python Day 2 Lesson 2: Interacting with Data APIs\n",
        "\n",
        "Another way to access data from online applications is with a web *API* (application programming interface). \n",
        "\n",
        "We will use REST (Representational state transfer) methods to retrieve data. \n",
        "\n",
        "Here's a big list of public APIs: https://github.com/public-apis/public-apis \n",
        "\n",
        "Lets have some fun with baseball statistics!\n",
        "\n",
        "https://appac.github.io/mlb-data-api-docs/ \n"
      ]
    },
    {
      "cell_type": "code",
      "metadata": {
        "id": "3YOsHQmgsebu"
      },
      "source": [
        "import requests\n",
        "import json\n",
        "import pandas as pd\n",
        "import matplotlib.pyplot as plt"
      ],
      "execution_count": null,
      "outputs": []
    },
    {
      "cell_type": "code",
      "metadata": {
        "id": "7M5aSPazyTsT"
      },
      "source": [
        "url = \"http://lookup-service-prod.mlb.com/\""
      ],
      "execution_count": null,
      "outputs": []
    },
    {
      "cell_type": "code",
      "metadata": {
        "colab": {
          "base_uri": "https://localhost:8080/"
        },
        "id": "v9codmzmxy_y",
        "outputId": "07f74d25-6c2f-4cc6-ae61-cf5ac5ed4b18"
      },
      "source": [
        "teams = requests.get(url + \"json/named.team_all_season.bam?sport_code='mlb'&all_star_sw='N'&sort_order='name_asc'&season=2019\")\n",
        "teams"
      ],
      "execution_count": null,
      "outputs": [
        {
          "output_type": "execute_result",
          "data": {
            "text/plain": [
              "<Response [200]>"
            ]
          },
          "metadata": {
            "tags": []
          },
          "execution_count": 3
        }
      ]
    },
    {
      "cell_type": "code",
      "metadata": {
        "colab": {
          "base_uri": "https://localhost:8080/"
        },
        "id": "Mm8oEhJpOen7",
        "outputId": "84f9b80a-303b-4116-b75d-a37e954b1c90"
      },
      "source": [
        "type(teams)"
      ],
      "execution_count": null,
      "outputs": [
        {
          "output_type": "execute_result",
          "data": {
            "text/plain": [
              "requests.models.Response"
            ]
          },
          "metadata": {
            "tags": []
          },
          "execution_count": 4
        }
      ]
    },
    {
      "cell_type": "code",
      "metadata": {
        "colab": {
          "base_uri": "https://localhost:8080/"
        },
        "id": "IXF6vRsIyPHB",
        "outputId": "174b4803-2eae-4d7e-edfc-86c4218b9322"
      },
      "source": [
        "team_data = teams.json()\n",
        "team_list = team_data['team_all_season']['queryResults']['row']\n",
        "team_data['team_all_season']['queryResults']['row'][0].keys()"
      ],
      "execution_count": null,
      "outputs": [
        {
          "output_type": "execute_result",
          "data": {
            "text/plain": [
              "dict_keys(['phone_number', 'venue_name', 'franchise_code', 'all_star_sw', 'sport_code', 'address_city', 'city', 'name_display_full', 'spring_league_abbrev', 'time_zone_alt', 'sport_id', 'venue_id', 'mlb_org_id', 'time_zone_generic', 'mlb_org', 'last_year_of_play', 'league_full', 'home_opener_time', 'address_province', 'league_id', 'name_abbrev', 'bis_team_code', 'league', 'spring_league', 'base_url', 'address_zip', 'sport_code_display', 'mlb_org_short', 'time_zone', 'address_line1', 'mlb_org_brief', 'address_line2', 'season', 'address_line3', 'division_abbrev', 'name_display_short', 'team_id', 'active_sw', 'address_intl', 'state', 'address_country', 'mlb_org_abbrev', 'division', 'team_code', 'name', 'website_url', 'sport_code_name', 'first_year_of_play', 'league_abbrev', 'name_display_long', 'store_url', 'time_zone_text', 'name_short', 'home_opener', 'address_state', 'division_full', 'time_zone_num', 'spring_league_full', 'address', 'name_display_brief', 'file_code', 'division_id', 'spring_league_id', 'venue_short'])"
            ]
          },
          "metadata": {
            "tags": []
          },
          "execution_count": 5
        }
      ]
    },
    {
      "cell_type": "code",
      "metadata": {
        "colab": {
          "base_uri": "https://localhost:8080/"
        },
        "id": "cBQzoRujzHNU",
        "outputId": "74600cc1-8c40-46d5-df37-546f85f4f2bc"
      },
      "source": [
        "for team in team_list:\n",
        "  print('Team name: {}, venue: {}, id: {}'.format(team['name_display_full'], team['venue_name'], team['mlb_org_id']))"
      ],
      "execution_count": null,
      "outputs": [
        {
          "output_type": "stream",
          "text": [
            "Team name: Arizona Diamondbacks, venue: Chase Field, id: 109\n",
            "Team name: Atlanta Braves, venue: SunTrust Park, id: 144\n",
            "Team name: Baltimore Orioles, venue: Oriole Park at Camden Yards, id: 110\n",
            "Team name: Boston Red Sox, venue: Fenway Park, id: 111\n",
            "Team name: Chicago Cubs, venue: Wrigley Field, id: 112\n",
            "Team name: Chicago White Sox, venue: Guaranteed Rate Field, id: 145\n",
            "Team name: Cincinnati Reds, venue: Great American Ball Park, id: 113\n",
            "Team name: Cleveland Indians, venue: Progressive Field, id: 114\n",
            "Team name: Colorado Rockies, venue: Coors Field, id: 115\n",
            "Team name: Detroit Tigers, venue: Comerica Park, id: 116\n",
            "Team name: Houston Astros, venue: Minute Maid Park, id: 117\n",
            "Team name: Kansas City Royals, venue: Kauffman Stadium, id: 118\n",
            "Team name: Los Angeles Angels, venue: Angel Stadium, id: 108\n",
            "Team name: Los Angeles Dodgers, venue: Dodger Stadium, id: 119\n",
            "Team name: Miami Marlins, venue: Marlins Park, id: 146\n",
            "Team name: Milwaukee Brewers, venue: Miller Park, id: 158\n",
            "Team name: Minnesota Twins, venue: Target Field, id: 142\n",
            "Team name: New York Mets, venue: Citi Field, id: 121\n",
            "Team name: New York Yankees, venue: Yankee Stadium, id: 147\n",
            "Team name: Oakland Athletics, venue: Oakland Coliseum, id: 133\n",
            "Team name: Philadelphia Phillies, venue: Citizens Bank Park, id: 143\n",
            "Team name: Pittsburgh Pirates, venue: PNC Park, id: 134\n",
            "Team name: San Diego Padres, venue: Petco Park, id: 135\n",
            "Team name: San Francisco Giants, venue: Oracle Park, id: 137\n",
            "Team name: Seattle Mariners, venue: T-Mobile Park, id: 136\n",
            "Team name: St. Louis Cardinals, venue: Busch Stadium, id: 138\n",
            "Team name: Tampa Bay Rays, venue: Tropicana Field, id: 139\n",
            "Team name: Texas Rangers, venue: Globe Life Park in Arlington, id: 140\n",
            "Team name: Toronto Blue Jays, venue: Rogers Centre, id: 141\n",
            "Team name: Washington Nationals, venue: Nationals Park, id: 120\n"
          ],
          "name": "stdout"
        }
      ]
    },
    {
      "cell_type": "code",
      "metadata": {
        "id": "ER3Vo2KXyYuR",
        "colab": {
          "base_uri": "https://localhost:8080/"
        },
        "outputId": "acf17b80-78a5-4868-df0c-cda27398cd15"
      },
      "source": [
        "rbi_list = []\n",
        "avg_list = []\n",
        "\n",
        "name_list = []\n",
        "\n",
        "team_id = [135]\n",
        "\n",
        "for index, teamid in enumerate(team_id):\n",
        "  players = requests.get(url + \"json/named.roster_team_alltime.bam?start_season=1998&end_season=1998&team_id={}\".format(teamid))\n",
        "  player_list = players.json()['roster_team_alltime']['queryResults']['row']\n",
        "\n",
        "  print(len(player_list))\n",
        "\n",
        "  for player in player_list:\n",
        "    print(player['name_last_first'])\n",
        "    name_list.append(player['name_last_first'])\n",
        "\n",
        "  for player in player_list:\n",
        "    hitting_stats = requests.get(url + \"json/named.sport_career_hitting.bam?league_list_id='mlb'&game_type='R'&player_id={}\".format(player['player_id']))\n",
        "\n",
        "    try:\n",
        "      hitting_stats_dict = hitting_stats.json()['sport_career_hitting']['queryResults']['row']\n",
        "\n",
        "      rbi_list.append(hitting_stats_dict['rbi'])\n",
        "      avg_list.append(hitting_stats_dict['avg'])\n",
        "    except KeyError:\n",
        "      rbi_list.append('')\n",
        "      avg_list.append('')"
      ],
      "execution_count": null,
      "outputs": [
        {
          "output_type": "stream",
          "text": [
            "42\n",
            "Arias, George\n",
            "Ashby, Andy\n",
            "Boehringer, Brian\n",
            "Brown, Kevin\n",
            "Bruske, Jim\n",
            "Caminiti, Ken\n",
            "Cianfrocco, Archi\n",
            "Clement, Matt\n",
            "Cunnane, Will\n",
            "Davis, Ben\n",
            "Finley, Steve\n",
            "Giovanola, Ed\n",
            "Gomez, Chris\n",
            "Gwynn, Tony\n",
            "Hamilton, Joey\n",
            "Hernandez, Carlos\n",
            "Hitchcock, Sterling\n",
            "Hoffman, Trevor\n",
            "Joyner, Wally\n",
            "Kroon, Marc\n",
            "Langston, Mark\n",
            "Leyritz, Jim\n",
            "Miceli, Dan\n",
            "Mouton, James\n",
            "Myers, Greg\n",
            "Myers, Randy\n",
            "Ramirez, Roberto\n",
            "Reyes, Carlos\n",
            "Rivera, Ruben\n",
            "Romero, Mandy\n",
            "Sanders, Scott\n",
            "Sheets, Andy\n",
            "Smith, Pete\n",
            "Spencer, Stan\n",
            "Sweeney, Mark\n",
            "Van Ryn, Ben\n",
            "Vander Wal, John\n",
            "Vaughn, Greg\n",
            "Veras, Quilvio\n",
            "Wall, Donne\n",
            "Wengert, Don\n",
            "Williams, Eddie\n"
          ],
          "name": "stdout"
        }
      ]
    },
    {
      "cell_type": "code",
      "metadata": {
        "colab": {
          "base_uri": "https://localhost:8080/"
        },
        "id": "8372t-EACiez",
        "outputId": "a7b12dff-5fc0-4ccc-e347-eeca1fb6f5c4"
      },
      "source": [
        "print(name_list)\n",
        "print(rbi_list)\n",
        "print(avg_list)"
      ],
      "execution_count": null,
      "outputs": [
        {
          "output_type": "stream",
          "text": [
            "['Arias, George', 'Ashby, Andy', 'Boehringer, Brian', 'Brown, Kevin', 'Bruske, Jim', 'Caminiti, Ken', 'Cianfrocco, Archi', 'Clement, Matt', 'Cunnane, Will', 'Davis, Ben', 'Finley, Steve', 'Giovanola, Ed', 'Gomez, Chris', 'Gwynn, Tony', 'Hamilton, Joey', 'Hernandez, Carlos', 'Hitchcock, Sterling', 'Hoffman, Trevor', 'Joyner, Wally', 'Kroon, Marc', 'Langston, Mark', 'Leyritz, Jim', 'Miceli, Dan', 'Mouton, James', 'Myers, Greg', 'Myers, Randy', 'Ramirez, Roberto', 'Reyes, Carlos', 'Rivera, Ruben', 'Romero, Mandy', 'Sanders, Scott', 'Sheets, Andy', 'Smith, Pete', 'Spencer, Stan', 'Sweeney, Mark', 'Van Ryn, Ben', 'Vander Wal, John', 'Vaughn, Greg', 'Veras, Quilvio', 'Wall, Donne', 'Wengert, Don', 'Williams, Eddie']\n",
            "['55', '26', '2', '29', '0', '983', '185', '12', '4', '204', '1167', '19', '486', '1138', '22', '141', '5', '5', '1106', '0', '5', '387', '0', '147', '396', '7', '0', '0', '203', '5', '8', '113', '15', '1', '250', '0', '430', '1072', '239', '1', '0', '150']\n",
            "['.238', '.134', '.065', '.129', '.100', '.272', '.241', '.095', '.200', '.237', '.271', '.216', '.262', '.338', '.127', '.253', '.090', '.118', '.289', '', '.152', '.264', '.091', '.246', '.255', '.183', '.143', '.000', '.216', '.208', '.194', '.216', '.118', '.161', '.254', '.000', '.261', '.242', '.270', '.176', '.000', '.252']\n"
          ],
          "name": "stdout"
        }
      ]
    },
    {
      "cell_type": "code",
      "metadata": {
        "colab": {
          "base_uri": "https://localhost:8080/",
          "height": 1000
        },
        "id": "LECOwWEbU07Z",
        "outputId": "74878803-6eac-4bfc-c227-f7586bc51b0d"
      },
      "source": [
        "batting_df = pd.DataFrame({'player_names': name_list, 'rbi': rbi_list, 'avg': avg_list})\n",
        "batting_df = batting_df.astype({'rbi': 'int', 'avg': 'double'}, errors='ignore')\n",
        "batting_df"
      ],
      "execution_count": null,
      "outputs": [
        {
          "output_type": "execute_result",
          "data": {
            "text/html": [
              "<div>\n",
              "<style scoped>\n",
              "    .dataframe tbody tr th:only-of-type {\n",
              "        vertical-align: middle;\n",
              "    }\n",
              "\n",
              "    .dataframe tbody tr th {\n",
              "        vertical-align: top;\n",
              "    }\n",
              "\n",
              "    .dataframe thead th {\n",
              "        text-align: right;\n",
              "    }\n",
              "</style>\n",
              "<table border=\"1\" class=\"dataframe\">\n",
              "  <thead>\n",
              "    <tr style=\"text-align: right;\">\n",
              "      <th></th>\n",
              "      <th>player_names</th>\n",
              "      <th>rbi</th>\n",
              "      <th>avg</th>\n",
              "    </tr>\n",
              "  </thead>\n",
              "  <tbody>\n",
              "    <tr>\n",
              "      <th>0</th>\n",
              "      <td>Arias, George</td>\n",
              "      <td>55</td>\n",
              "      <td>.238</td>\n",
              "    </tr>\n",
              "    <tr>\n",
              "      <th>1</th>\n",
              "      <td>Ashby, Andy</td>\n",
              "      <td>26</td>\n",
              "      <td>.134</td>\n",
              "    </tr>\n",
              "    <tr>\n",
              "      <th>2</th>\n",
              "      <td>Boehringer, Brian</td>\n",
              "      <td>2</td>\n",
              "      <td>.065</td>\n",
              "    </tr>\n",
              "    <tr>\n",
              "      <th>3</th>\n",
              "      <td>Brown, Kevin</td>\n",
              "      <td>29</td>\n",
              "      <td>.129</td>\n",
              "    </tr>\n",
              "    <tr>\n",
              "      <th>4</th>\n",
              "      <td>Bruske, Jim</td>\n",
              "      <td>0</td>\n",
              "      <td>.100</td>\n",
              "    </tr>\n",
              "    <tr>\n",
              "      <th>5</th>\n",
              "      <td>Caminiti, Ken</td>\n",
              "      <td>983</td>\n",
              "      <td>.272</td>\n",
              "    </tr>\n",
              "    <tr>\n",
              "      <th>6</th>\n",
              "      <td>Cianfrocco, Archi</td>\n",
              "      <td>185</td>\n",
              "      <td>.241</td>\n",
              "    </tr>\n",
              "    <tr>\n",
              "      <th>7</th>\n",
              "      <td>Clement, Matt</td>\n",
              "      <td>12</td>\n",
              "      <td>.095</td>\n",
              "    </tr>\n",
              "    <tr>\n",
              "      <th>8</th>\n",
              "      <td>Cunnane, Will</td>\n",
              "      <td>4</td>\n",
              "      <td>.200</td>\n",
              "    </tr>\n",
              "    <tr>\n",
              "      <th>9</th>\n",
              "      <td>Davis, Ben</td>\n",
              "      <td>204</td>\n",
              "      <td>.237</td>\n",
              "    </tr>\n",
              "    <tr>\n",
              "      <th>10</th>\n",
              "      <td>Finley, Steve</td>\n",
              "      <td>1167</td>\n",
              "      <td>.271</td>\n",
              "    </tr>\n",
              "    <tr>\n",
              "      <th>11</th>\n",
              "      <td>Giovanola, Ed</td>\n",
              "      <td>19</td>\n",
              "      <td>.216</td>\n",
              "    </tr>\n",
              "    <tr>\n",
              "      <th>12</th>\n",
              "      <td>Gomez, Chris</td>\n",
              "      <td>486</td>\n",
              "      <td>.262</td>\n",
              "    </tr>\n",
              "    <tr>\n",
              "      <th>13</th>\n",
              "      <td>Gwynn, Tony</td>\n",
              "      <td>1138</td>\n",
              "      <td>.338</td>\n",
              "    </tr>\n",
              "    <tr>\n",
              "      <th>14</th>\n",
              "      <td>Hamilton, Joey</td>\n",
              "      <td>22</td>\n",
              "      <td>.127</td>\n",
              "    </tr>\n",
              "    <tr>\n",
              "      <th>15</th>\n",
              "      <td>Hernandez, Carlos</td>\n",
              "      <td>141</td>\n",
              "      <td>.253</td>\n",
              "    </tr>\n",
              "    <tr>\n",
              "      <th>16</th>\n",
              "      <td>Hitchcock, Sterling</td>\n",
              "      <td>5</td>\n",
              "      <td>.090</td>\n",
              "    </tr>\n",
              "    <tr>\n",
              "      <th>17</th>\n",
              "      <td>Hoffman, Trevor</td>\n",
              "      <td>5</td>\n",
              "      <td>.118</td>\n",
              "    </tr>\n",
              "    <tr>\n",
              "      <th>18</th>\n",
              "      <td>Joyner, Wally</td>\n",
              "      <td>1106</td>\n",
              "      <td>.289</td>\n",
              "    </tr>\n",
              "    <tr>\n",
              "      <th>19</th>\n",
              "      <td>Kroon, Marc</td>\n",
              "      <td>0</td>\n",
              "      <td></td>\n",
              "    </tr>\n",
              "    <tr>\n",
              "      <th>20</th>\n",
              "      <td>Langston, Mark</td>\n",
              "      <td>5</td>\n",
              "      <td>.152</td>\n",
              "    </tr>\n",
              "    <tr>\n",
              "      <th>21</th>\n",
              "      <td>Leyritz, Jim</td>\n",
              "      <td>387</td>\n",
              "      <td>.264</td>\n",
              "    </tr>\n",
              "    <tr>\n",
              "      <th>22</th>\n",
              "      <td>Miceli, Dan</td>\n",
              "      <td>0</td>\n",
              "      <td>.091</td>\n",
              "    </tr>\n",
              "    <tr>\n",
              "      <th>23</th>\n",
              "      <td>Mouton, James</td>\n",
              "      <td>147</td>\n",
              "      <td>.246</td>\n",
              "    </tr>\n",
              "    <tr>\n",
              "      <th>24</th>\n",
              "      <td>Myers, Greg</td>\n",
              "      <td>396</td>\n",
              "      <td>.255</td>\n",
              "    </tr>\n",
              "    <tr>\n",
              "      <th>25</th>\n",
              "      <td>Myers, Randy</td>\n",
              "      <td>7</td>\n",
              "      <td>.183</td>\n",
              "    </tr>\n",
              "    <tr>\n",
              "      <th>26</th>\n",
              "      <td>Ramirez, Roberto</td>\n",
              "      <td>0</td>\n",
              "      <td>.143</td>\n",
              "    </tr>\n",
              "    <tr>\n",
              "      <th>27</th>\n",
              "      <td>Reyes, Carlos</td>\n",
              "      <td>0</td>\n",
              "      <td>.000</td>\n",
              "    </tr>\n",
              "    <tr>\n",
              "      <th>28</th>\n",
              "      <td>Rivera, Ruben</td>\n",
              "      <td>203</td>\n",
              "      <td>.216</td>\n",
              "    </tr>\n",
              "    <tr>\n",
              "      <th>29</th>\n",
              "      <td>Romero, Mandy</td>\n",
              "      <td>5</td>\n",
              "      <td>.208</td>\n",
              "    </tr>\n",
              "    <tr>\n",
              "      <th>30</th>\n",
              "      <td>Sanders, Scott</td>\n",
              "      <td>8</td>\n",
              "      <td>.194</td>\n",
              "    </tr>\n",
              "    <tr>\n",
              "      <th>31</th>\n",
              "      <td>Sheets, Andy</td>\n",
              "      <td>113</td>\n",
              "      <td>.216</td>\n",
              "    </tr>\n",
              "    <tr>\n",
              "      <th>32</th>\n",
              "      <td>Smith, Pete</td>\n",
              "      <td>15</td>\n",
              "      <td>.118</td>\n",
              "    </tr>\n",
              "    <tr>\n",
              "      <th>33</th>\n",
              "      <td>Spencer, Stan</td>\n",
              "      <td>1</td>\n",
              "      <td>.161</td>\n",
              "    </tr>\n",
              "    <tr>\n",
              "      <th>34</th>\n",
              "      <td>Sweeney, Mark</td>\n",
              "      <td>250</td>\n",
              "      <td>.254</td>\n",
              "    </tr>\n",
              "    <tr>\n",
              "      <th>35</th>\n",
              "      <td>Van Ryn, Ben</td>\n",
              "      <td>0</td>\n",
              "      <td>.000</td>\n",
              "    </tr>\n",
              "    <tr>\n",
              "      <th>36</th>\n",
              "      <td>Vander Wal, John</td>\n",
              "      <td>430</td>\n",
              "      <td>.261</td>\n",
              "    </tr>\n",
              "    <tr>\n",
              "      <th>37</th>\n",
              "      <td>Vaughn, Greg</td>\n",
              "      <td>1072</td>\n",
              "      <td>.242</td>\n",
              "    </tr>\n",
              "    <tr>\n",
              "      <th>38</th>\n",
              "      <td>Veras, Quilvio</td>\n",
              "      <td>239</td>\n",
              "      <td>.270</td>\n",
              "    </tr>\n",
              "    <tr>\n",
              "      <th>39</th>\n",
              "      <td>Wall, Donne</td>\n",
              "      <td>1</td>\n",
              "      <td>.176</td>\n",
              "    </tr>\n",
              "    <tr>\n",
              "      <th>40</th>\n",
              "      <td>Wengert, Don</td>\n",
              "      <td>0</td>\n",
              "      <td>.000</td>\n",
              "    </tr>\n",
              "    <tr>\n",
              "      <th>41</th>\n",
              "      <td>Williams, Eddie</td>\n",
              "      <td>150</td>\n",
              "      <td>.252</td>\n",
              "    </tr>\n",
              "  </tbody>\n",
              "</table>\n",
              "</div>"
            ],
            "text/plain": [
              "           player_names   rbi   avg\n",
              "0         Arias, George    55  .238\n",
              "1           Ashby, Andy    26  .134\n",
              "2     Boehringer, Brian     2  .065\n",
              "3          Brown, Kevin    29  .129\n",
              "4           Bruske, Jim     0  .100\n",
              "5         Caminiti, Ken   983  .272\n",
              "6     Cianfrocco, Archi   185  .241\n",
              "7         Clement, Matt    12  .095\n",
              "8         Cunnane, Will     4  .200\n",
              "9            Davis, Ben   204  .237\n",
              "10        Finley, Steve  1167  .271\n",
              "11        Giovanola, Ed    19  .216\n",
              "12         Gomez, Chris   486  .262\n",
              "13          Gwynn, Tony  1138  .338\n",
              "14       Hamilton, Joey    22  .127\n",
              "15    Hernandez, Carlos   141  .253\n",
              "16  Hitchcock, Sterling     5  .090\n",
              "17      Hoffman, Trevor     5  .118\n",
              "18        Joyner, Wally  1106  .289\n",
              "19          Kroon, Marc     0      \n",
              "20       Langston, Mark     5  .152\n",
              "21         Leyritz, Jim   387  .264\n",
              "22          Miceli, Dan     0  .091\n",
              "23        Mouton, James   147  .246\n",
              "24          Myers, Greg   396  .255\n",
              "25         Myers, Randy     7  .183\n",
              "26     Ramirez, Roberto     0  .143\n",
              "27        Reyes, Carlos     0  .000\n",
              "28        Rivera, Ruben   203  .216\n",
              "29        Romero, Mandy     5  .208\n",
              "30       Sanders, Scott     8  .194\n",
              "31         Sheets, Andy   113  .216\n",
              "32          Smith, Pete    15  .118\n",
              "33        Spencer, Stan     1  .161\n",
              "34        Sweeney, Mark   250  .254\n",
              "35         Van Ryn, Ben     0  .000\n",
              "36     Vander Wal, John   430  .261\n",
              "37         Vaughn, Greg  1072  .242\n",
              "38       Veras, Quilvio   239  .270\n",
              "39          Wall, Donne     1  .176\n",
              "40         Wengert, Don     0  .000\n",
              "41      Williams, Eddie   150  .252"
            ]
          },
          "metadata": {
            "tags": []
          },
          "execution_count": 10
        }
      ]
    },
    {
      "cell_type": "code",
      "metadata": {
        "id": "0UM2hgy3Vjxb"
      },
      "source": [
        "print(batting_df['rbi'])"
      ],
      "execution_count": null,
      "outputs": []
    },
    {
      "cell_type": "code",
      "metadata": {
        "id": "DJYdo5ZvLmVN"
      },
      "source": [
        "# empty_index = avg_list.index('')\n",
        "# print(empty_index)\n",
        "\n",
        "# del name_list[empty_index]\n",
        "# del rbi_list[empty_index]\n",
        "# del avg_list[empty_index]\n",
        "\n",
        "# rbi_numbers = [int(rbi) for rbi in rbi_list]\n",
        "# avg_numbers = [float(avg) for avg in avg_list]"
      ],
      "execution_count": null,
      "outputs": []
    },
    {
      "cell_type": "code",
      "metadata": {
        "colab": {
          "base_uri": "https://localhost:8080/",
          "height": 282
        },
        "id": "0mF6M3QUTIfO",
        "outputId": "47c65e48-c6d1-461a-c39a-57a53d937910"
      },
      "source": [
        "plt.scatter(batting_df['rbi'], batting_df['avg'])"
      ],
      "execution_count": null,
      "outputs": [
        {
          "output_type": "execute_result",
          "data": {
            "text/plain": [
              "<matplotlib.collections.PathCollection at 0x7f72147eae10>"
            ]
          },
          "metadata": {
            "tags": []
          },
          "execution_count": 11
        },
        {
          "output_type": "display_data",
          "data": {
            "image/png": "[encoded data removed]",
            "text/plain": [
              "<Figure size 432x288 with 1 Axes>"
            ]
          },
          "metadata": {
            "tags": [],
            "needs_background": "light"
          }
        }
      ]
    },
    {
      "cell_type": "code",
      "metadata": {
        "id": "uzaF-Rn7UUnz"
      },
      "source": [
        ""
      ],
      "execution_count": null,
      "outputs": []
    }
  ]
}